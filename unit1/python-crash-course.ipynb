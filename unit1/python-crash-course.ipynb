{
 "cells": [
  {
   "cell_type": "markdown",
   "metadata": {},
   "source": [
    "# Python Crash Course\n",
    "\n",
    "### School Day\n",
    "Today is my harder class day. Although I have *fewer* classes, my classes on this day are significantly more *difficult*. My class schedule is in the following order:\n",
    "1. Physics\n",
    "2. Data Science with Python\n",
    "3. Calculus\n",
    "\n",
    "Needless to say, by the end of the day I will be ***exhausted***.\n",
    "\n",
    "### After School\n",
    "I am excited for after school because I have plans with my best friend, **Lucy**. Lucy and I are going to water my grandmother's plants and are then headed to the Marblehead High Football game. I haven't seen Lucy since last Wednesday, so I am very excited to see her. "
   ]
  },
  {
   "cell_type": "code",
   "execution_count": null,
   "metadata": {},
   "outputs": [],
   "source": []
  }
 ],
 "metadata": {
  "kernelspec": {
   "display_name": "Python 3",
   "language": "python",
   "name": "python3"
  },
  "language_info": {
   "codemirror_mode": {
    "name": "ipython",
    "version": 3
   },
   "file_extension": ".py",
   "mimetype": "text/x-python",
   "name": "python",
   "nbconvert_exporter": "python",
   "pygments_lexer": "ipython3",
   "version": "3.8.5"
  }
 },
 "nbformat": 4,
 "nbformat_minor": 4
}
