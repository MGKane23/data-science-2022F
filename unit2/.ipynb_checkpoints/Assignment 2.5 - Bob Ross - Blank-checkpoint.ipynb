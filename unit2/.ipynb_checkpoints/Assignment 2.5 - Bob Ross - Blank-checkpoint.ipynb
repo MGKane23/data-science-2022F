{
 "cells": [
  {
   "cell_type": "markdown",
   "metadata": {},
   "source": [
    "# Bob Ross Exploration\n",
    "\n",
    "An exploration into the exciting world of Bob Ross' paintings and correlations between objects he chose to paint!\n",
    "\n",
    "***\n",
    "\n",
    "Start by downloading a CSV of all of Bob's episodes:\n",
    "https://github.com/fivethirtyeight/data/blob/master/bob-ross/elements-by-episode.csv\n",
    "\n",
    "For each episode, objects are tagged as present (1) or absent (0).\n",
    "\n",
    "Save the CSV into the same folder as this Notebook.\n",
    "\n",
    "Then, import pandas and get all the episode data into a DataFrame:"
   ]
  },
  {
   "cell_type": "code",
   "execution_count": null,
   "metadata": {},
   "outputs": [],
   "source": []
  },
  {
   "cell_type": "markdown",
   "metadata": {},
   "source": [
    "It's always helpful to use ```.info()``` on your DataFrame to check whether any columns are missing data before you start working with it. So do that now:"
   ]
  },
  {
   "cell_type": "code",
   "execution_count": null,
   "metadata": {},
   "outputs": [],
   "source": []
  },
  {
   "cell_type": "code",
   "execution_count": null,
   "metadata": {},
   "outputs": [],
   "source": []
  },
  {
   "cell_type": "markdown",
   "metadata": {},
   "source": [
    "## Correlation \n",
    "\n",
    "Now we can go ahead and get a correlation matrix by simply calling ```.corr()``` on the DataFrame.\n",
    "\n",
    "In order to see all the columns and rows, uncomment the two lines in the next cell."
   ]
  },
  {
   "cell_type": "code",
   "execution_count": null,
   "metadata": {},
   "outputs": [],
   "source": []
  },
  {
   "cell_type": "markdown",
   "metadata": {},
   "source": [
    "The correlation matrix is itself a DataFrame, so go back and save it as its own object. Name it ```bob_ross_corr```.\n",
    "\n",
    "## Start the Investigation\n",
    "\n",
    "Now that you have a DataFrame and a correlation matrix, try to use code to perform the following:\n",
    "\n",
    "### Sunny Days\n",
    "\n",
    "Output (as a DataFrame) the episode and title of every episode in which Bob painted the sun.\n",
    "\n",
    "*Hint: use the SUN column where value == 1*"
   ]
  },
  {
   "cell_type": "code",
   "execution_count": null,
   "metadata": {},
   "outputs": [],
   "source": []
  },
  {
   "cell_type": "markdown",
   "metadata": {},
   "source": [
    "### Cones Please\n",
    "\n",
    "What percentage of paintings included a conifer? Use code to calculate this. See if you can do it in one line of code.\n",
    "\n",
    "It's okay to Google for ideas, but cite your source with a comment and full link to where you found it."
   ]
  },
  {
   "cell_type": "code",
   "execution_count": null,
   "metadata": {},
   "outputs": [],
   "source": []
  },
  {
   "cell_type": "markdown",
   "metadata": {},
   "source": [
    "### Water\n",
    "\n",
    "I want to know about episodes in which Bob might have painted water. Assume that any of the following objects would include water:\n",
    "\n",
    "'BOAT', 'BEACH', 'OCEAN', 'LAKE', 'WATERFALL', 'WAVES', 'RIVER', 'DOCK', 'BEACH'\n",
    "\n",
    "Create a new column in the original DataFrame called \"WATER\" and set it to 1 if any of the above columns have 1, otherwise 0.\n",
    "\n",
    "Hints: use a few code cells to do this in steps\n",
    "- Turn my list of water columns into a list called water_cols\n",
    "- Output the DataFrame but just the subset of waters columns. You'll use this view to verify your work.\n",
    "- Create a new column called water using this notation: ```df['WATER'] = ``` where df is the name of your DataFrame\n",
    "- Now the tricky part. You want to set that new column to a boolean value based on whether the number 1 is in any of the water columns. You'll need to use ```.isin()``` and ```.any(axis='columns')```\n",
    "- You can change the boolean values to int's using .astype(int) at the end of your expression"
   ]
  },
  {
   "cell_type": "code",
   "execution_count": null,
   "metadata": {},
   "outputs": [],
   "source": []
  },
  {
   "cell_type": "code",
   "execution_count": null,
   "metadata": {},
   "outputs": [],
   "source": []
  },
  {
   "cell_type": "markdown",
   "metadata": {},
   "source": [
    "### Super Bonus 🌶️\n",
    "\n",
    "Can you find the highest and lowest correlation for any column? \n",
    "\n",
    "So, pick a column, like ROCKS. Other than ROCKS (which would have a correlation of 1.00 with itself) what are the most and least correlated objects?\n",
    "\n",
    "Can you find that for every object?"
   ]
  },
  {
   "cell_type": "code",
   "execution_count": null,
   "metadata": {},
   "outputs": [],
   "source": []
  },
  {
   "cell_type": "markdown",
   "metadata": {},
   "source": [
    "### Super Super Bonus 🌶️🌶️\n",
    "\n",
    "And the icing on the cake- get the least and most correlated item for every item in the correlation matrix.\n",
    "\n",
    "*Hint: you will want to turn your code above into a function that takes an item (like \"SNOW\") and outputs the answer. Then, to iterate over the items, use ```iteritems()``` like this:*\n",
    "\n",
    "```for item in bob_ross_corr.iteritems():```\n",
    "\n",
    "The ```.iteritem()``` function returns a tuple, and you'll need to take the first element of the tuple and pass it to your function."
   ]
  },
  {
   "cell_type": "code",
   "execution_count": null,
   "metadata": {},
   "outputs": [],
   "source": []
  }
 ],
 "metadata": {
  "kernelspec": {
   "display_name": "Python 3",
   "language": "python",
   "name": "python3"
  },
  "language_info": {
   "codemirror_mode": {
    "name": "ipython",
    "version": 3
   },
   "file_extension": ".py",
   "mimetype": "text/x-python",
   "name": "python",
   "nbconvert_exporter": "python",
   "pygments_lexer": "ipython3",
   "version": "3.8.5"
  }
 },
 "nbformat": 4,
 "nbformat_minor": 5
}
