{
 "cells": [
  {
   "cell_type": "markdown",
   "metadata": {},
   "source": [
    "# Data Science Lesson - Describing Data\n",
    "---\n",
    "**How do we describe a one-dimensional data set?**\n",
    "\n",
    "Create a list of at least ten numeric grades (0-100). Output the list to verify."
   ]
  },
  {
   "cell_type": "code",
   "execution_count": 1,
   "metadata": {},
   "outputs": [
    {
     "data": {
      "text/plain": [
       "[59, 34, 44, 67, 23, 83, 58, 4, 89, 86]"
      ]
     },
     "execution_count": 1,
     "metadata": {},
     "output_type": "execute_result"
    }
   ],
   "source": [
    "import random\n",
    "grades = [random.randint(0,100) for i in range(10)]\n",
    "grades"
   ]
  },
  {
   "cell_type": "markdown",
   "metadata": {},
   "source": [
    "Find the number (the count) of grades in the list and output it."
   ]
  },
  {
   "cell_type": "code",
   "execution_count": 2,
   "metadata": {},
   "outputs": [
    {
     "data": {
      "text/plain": [
       "10"
      ]
     },
     "execution_count": 2,
     "metadata": {},
     "output_type": "execute_result"
    }
   ],
   "source": [
    "num_grades = len(grades)\n",
    "num_grades"
   ]
  },
  {
   "cell_type": "markdown",
   "metadata": {},
   "source": [
    "Calculate the mean grade using an old-fashioned for loop and the count from above."
   ]
  },
  {
   "cell_type": "code",
   "execution_count": 3,
   "metadata": {},
   "outputs": [
    {
     "data": {
      "text/plain": [
       "54.7"
      ]
     },
     "execution_count": 3,
     "metadata": {},
     "output_type": "execute_result"
    }
   ],
   "source": [
    "total = 0\n",
    "for grade in grades:\n",
    "    total += grade\n",
    "mean = total/num_grades\n",
    "mean"
   ]
  },
  {
   "cell_type": "markdown",
   "metadata": {},
   "source": [
    "Now calculate the mean using sum() and len()"
   ]
  },
  {
   "cell_type": "code",
   "execution_count": 4,
   "metadata": {},
   "outputs": [
    {
     "data": {
      "text/plain": [
       "54.7"
      ]
     },
     "execution_count": 4,
     "metadata": {},
     "output_type": "execute_result"
    }
   ],
   "source": [
    "mean = sum(grades)/len(grades)\n",
    "mean"
   ]
  },
  {
   "cell_type": "markdown",
   "metadata": {},
   "source": [
    "Calculate the minimum and maximum grades using an old-fashioned for loop and some clever logic. (You may want to whiteboard an algorithm first!) Output (print) them on one line (e.g., \"Minimum: 67 | Maximum: 99\")"
   ]
  },
  {
   "cell_type": "code",
   "execution_count": 5,
   "metadata": {},
   "outputs": [
    {
     "name": "stdout",
     "output_type": "stream",
     "text": [
      "Minimum: 4 | Maximum: 89\n"
     ]
    }
   ],
   "source": [
    "print(f'Minimum: {min(grades)} | Maximum: {max(grades)}')"
   ]
  },
  {
   "cell_type": "markdown",
   "metadata": {},
   "source": [
    "Manually calculate the population standard deviation of grades.\n",
    "See: https://www.thoughtco.com/population-vs-sample-standard-deviations-3126372"
   ]
  },
  {
   "cell_type": "code",
   "execution_count": 16,
   "metadata": {},
   "outputs": [
    {
     "data": {
      "text/plain": [
       "26.937149069639865"
      ]
     },
     "execution_count": 16,
     "metadata": {},
     "output_type": "execute_result"
    }
   ],
   "source": [
    "# import statistics\n",
    "# print(statistics.stdev(grades))\n",
    "\n",
    "total = 0\n",
    "for grade in grades:\n",
    "    av_and_value_diff = ((sum(grades)/len(grades)) - grade)**2\n",
    "    total += av_and_value_diff\n",
    "    \n",
    "standard_deviation = (total/(len(grades)))**(0.5)\n",
    "standard_deviation"
   ]
  },
  {
   "cell_type": "markdown",
   "metadata": {},
   "source": [
    "## Use NumPy\n",
    "\n",
    "Import NumPy (as np) and verify the mean and standard deviation using its mean() std() functions (which take a list as an argument).\n",
    "\n",
    "See: https://numpy.org/ and/or https://www.w3schools.com/python/numpy/\n",
    "\n",
    "*Note: you can pass a list into a NumPy function and it will be converted to a NumPy array for you.*"
   ]
  },
  {
   "cell_type": "code",
   "execution_count": 11,
   "metadata": {},
   "outputs": [],
   "source": [
    "import numpy as np"
   ]
  },
  {
   "cell_type": "code",
   "execution_count": 17,
   "metadata": {},
   "outputs": [
    {
     "data": {
      "text/plain": [
       "26.937149069639865"
      ]
     },
     "execution_count": 17,
     "metadata": {},
     "output_type": "execute_result"
    }
   ],
   "source": [
    "np.mean(grades)\n",
    "np.std(grades)"
   ]
  },
  {
   "cell_type": "markdown",
   "metadata": {},
   "source": [
    "**NumPy and other data science modules for Python do all the tedious work for us, and very efficiently!**"
   ]
  }
 ],
 "metadata": {
  "kernelspec": {
   "display_name": "Python 3",
   "language": "python",
   "name": "python3"
  },
  "language_info": {
   "codemirror_mode": {
    "name": "ipython",
    "version": 3
   },
   "file_extension": ".py",
   "mimetype": "text/x-python",
   "name": "python",
   "nbconvert_exporter": "python",
   "pygments_lexer": "ipython3",
   "version": "3.8.5"
  }
 },
 "nbformat": 4,
 "nbformat_minor": 5
}
