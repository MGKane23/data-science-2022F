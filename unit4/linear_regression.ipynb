{
 "cells": [
  {
   "cell_type": "code",
   "execution_count": 2,
   "id": "b3924a34",
   "metadata": {},
   "outputs": [
    {
     "data": {
      "text/html": [
       "<div>\n",
       "<style scoped>\n",
       "    .dataframe tbody tr th:only-of-type {\n",
       "        vertical-align: middle;\n",
       "    }\n",
       "\n",
       "    .dataframe tbody tr th {\n",
       "        vertical-align: top;\n",
       "    }\n",
       "\n",
       "    .dataframe thead th {\n",
       "        text-align: right;\n",
       "    }\n",
       "</style>\n",
       "<table border=\"1\" class=\"dataframe\">\n",
       "  <thead>\n",
       "    <tr style=\"text-align: right;\">\n",
       "      <th></th>\n",
       "      <th>name</th>\n",
       "      <th>gpa</th>\n",
       "      <th>sport</th>\n",
       "      <th>footware</th>\n",
       "      <th>height</th>\n",
       "      <th>friends</th>\n",
       "    </tr>\n",
       "  </thead>\n",
       "  <tbody>\n",
       "    <tr>\n",
       "      <th>0</th>\n",
       "      <td>dakota</td>\n",
       "      <td>3.15</td>\n",
       "      <td>basketball</td>\n",
       "      <td>sneakers</td>\n",
       "      <td>72</td>\n",
       "      <td>307</td>\n",
       "    </tr>\n",
       "    <tr>\n",
       "      <th>1</th>\n",
       "      <td>charlie</td>\n",
       "      <td>1.10</td>\n",
       "      <td>baseball</td>\n",
       "      <td>sandals</td>\n",
       "      <td>61</td>\n",
       "      <td>34</td>\n",
       "    </tr>\n",
       "    <tr>\n",
       "      <th>2</th>\n",
       "      <td>hayden</td>\n",
       "      <td>3.50</td>\n",
       "      <td>tennis</td>\n",
       "      <td>sandals</td>\n",
       "      <td>68</td>\n",
       "      <td>335</td>\n",
       "    </tr>\n",
       "    <tr>\n",
       "      <th>3</th>\n",
       "      <td>kamryn</td>\n",
       "      <td>2.18</td>\n",
       "      <td>soccer</td>\n",
       "      <td>sneakers</td>\n",
       "      <td>66</td>\n",
       "      <td>200</td>\n",
       "    </tr>\n",
       "    <tr>\n",
       "      <th>4</th>\n",
       "      <td>emerson</td>\n",
       "      <td>3.06</td>\n",
       "      <td>soccer</td>\n",
       "      <td>sneakers</td>\n",
       "      <td>65</td>\n",
       "      <td>213</td>\n",
       "    </tr>\n",
       "    <tr>\n",
       "      <th>5</th>\n",
       "      <td>jessie</td>\n",
       "      <td>2.41</td>\n",
       "      <td>basketball</td>\n",
       "      <td>sandals</td>\n",
       "      <td>61</td>\n",
       "      <td>202</td>\n",
       "    </tr>\n",
       "    <tr>\n",
       "      <th>6</th>\n",
       "      <td>sawyer</td>\n",
       "      <td>2.96</td>\n",
       "      <td>tennis</td>\n",
       "      <td>sandals</td>\n",
       "      <td>67</td>\n",
       "      <td>314</td>\n",
       "    </tr>\n",
       "    <tr>\n",
       "      <th>7</th>\n",
       "      <td>london</td>\n",
       "      <td>3.98</td>\n",
       "      <td>soccer</td>\n",
       "      <td>sneakers</td>\n",
       "      <td>64</td>\n",
       "      <td>436</td>\n",
       "    </tr>\n",
       "  </tbody>\n",
       "</table>\n",
       "</div>"
      ],
      "text/plain": [
       "      name   gpa       sport  footware  height  friends\n",
       "0   dakota  3.15  basketball  sneakers      72      307\n",
       "1  charlie  1.10    baseball   sandals      61       34\n",
       "2   hayden  3.50      tennis   sandals      68      335\n",
       "3   kamryn  2.18      soccer  sneakers      66      200\n",
       "4  emerson  3.06      soccer  sneakers      65      213\n",
       "5   jessie  2.41  basketball   sandals      61      202\n",
       "6   sawyer  2.96      tennis   sandals      67      314\n",
       "7   london  3.98      soccer  sneakers      64      436"
      ]
     },
     "execution_count": 2,
     "metadata": {},
     "output_type": "execute_result"
    }
   ],
   "source": [
    "import pandas as pd\n",
    "import seaborn as sns\n",
    "\n",
    "people = pd.read_csv('people.csv')\n",
    "people"
   ]
  },
  {
   "cell_type": "code",
   "execution_count": 4,
   "id": "9b53b4df",
   "metadata": {},
   "outputs": [
    {
     "data": {
      "text/plain": [
       "<AxesSubplot:xlabel='gpa', ylabel='friends'>"
      ]
     },
     "execution_count": 4,
     "metadata": {},
     "output_type": "execute_result"
    },
    {
     "data": {
      "image/png": "[encoded data removed]",
      "text/plain": [
       "<Figure size 640x480 with 1 Axes>"
      ]
     },
     "metadata": {},
     "output_type": "display_data"
    }
   ],
   "source": [
    "sns.set_style('whitegrid')\n",
    "sns.regplot(data=people, x='gpa', y='friends')"
   ]
  },
  {
   "cell_type": "code",
   "execution_count": 5,
   "id": "1db57550",
   "metadata": {},
   "outputs": [],
   "source": [
    "from sklearn.linear_model import LinearRegression"
   ]
  },
  {
   "cell_type": "code",
   "execution_count": 27,
   "id": "af47487d",
   "metadata": {},
   "outputs": [],
   "source": [
    "X = people.gpa.values.reshape(-1,1)\n",
    "y = people.friends.values.reshape(-1,1)\n",
    "\n",
    "model = LinearRegression().fit(X, y)\n",
    "\n",
    "slope = model.coef_\n",
    "y_intercept = model.intercept_\n",
    "r_sq = model.score(X, y)"
   ]
  },
  {
   "cell_type": "code",
   "execution_count": 30,
   "id": "2a75c8ed",
   "metadata": {},
   "outputs": [
    {
     "data": {
      "text/plain": [
       "array([[152.29539386]])"
      ]
     },
     "execution_count": 30,
     "metadata": {},
     "output_type": "execute_result"
    }
   ],
   "source": [
    "model.predict([[2.0]])"
   ]
  }
 ],
 "metadata": {
  "kernelspec": {
   "display_name": "Python 3 (ipykernel)",
   "language": "python",
   "name": "python3"
  },
  "language_info": {
   "codemirror_mode": {
    "name": "ipython",
    "version": 3
   },
   "file_extension": ".py",
   "mimetype": "text/x-python",
   "name": "python",
   "nbconvert_exporter": "python",
   "pygments_lexer": "ipython3",
   "version": "3.9.13"
  }
 },
 "nbformat": 4,
 "nbformat_minor": 5
}
