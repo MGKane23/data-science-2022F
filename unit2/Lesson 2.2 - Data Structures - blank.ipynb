{
 "cells": [
  {
   "cell_type": "markdown",
   "metadata": {},
   "source": [
    "# Data Science Lesson - Data Structures\n",
    "---\n",
    "**Question: How do we represent our Stick Figure Google Sheet (table) in a Python variable?**\n",
    "\n",
    "### List of Dictionaries\n",
    "\n",
    "Represent each person as a dictionary, and stote them all in a list. Output the list to verify."
   ]
  },
  {
   "cell_type": "code",
   "execution_count": 12,
   "metadata": {},
   "outputs": [
    {
     "data": {
      "text/plain": [
       "[{'name': 'dakota',\n",
       "  'gpa': 3.15,\n",
       "  'sport': 'basketball',\n",
       "  'footware': 'sneakers',\n",
       "  'height': 72,\n",
       "  'friends': 307},\n",
       " {'name': 'charlie',\n",
       "  'gpa': 1.1,\n",
       "  'sport': 'baseball',\n",
       "  'footware': 'sandals',\n",
       "  'height': 61,\n",
       "  'friends': 34},\n",
       " {'name': 'hayden',\n",
       "  'gpa': 3.5,\n",
       "  'sport': 'tennis',\n",
       "  'footware': 'sandals',\n",
       "  'height': 68,\n",
       "  'friends': 335},\n",
       " {'name': 'kamryn',\n",
       "  'gpa': 2.18,\n",
       "  'sport': 'soccer',\n",
       "  'footware': 'sneakers',\n",
       "  'height': 66,\n",
       "  'friends': 200},\n",
       " {'name': 'emerson',\n",
       "  'gpa': 3.06,\n",
       "  'sport': 'soccer',\n",
       "  'footware': 'sneakers',\n",
       "  'height': 65,\n",
       "  'friends': 213},\n",
       " {'name': 'jessie',\n",
       "  'gpa': 2.41,\n",
       "  'sport': 'basketball',\n",
       "  'footware': 'sandals',\n",
       "  'height': 61,\n",
       "  'friends': 202},\n",
       " {'name': 'sawyer',\n",
       "  'gpa': 2.96,\n",
       "  'sport': 'tennis',\n",
       "  'footware': 'sandals',\n",
       "  'height': 67,\n",
       "  'friends': 314},\n",
       " {'name': 'london',\n",
       "  'gpa': 3.98,\n",
       "  'sport': 'soccer',\n",
       "  'footware': 'sneakers',\n",
       "  'height': 64,\n",
       "  'friends': 436}]"
      ]
     },
     "execution_count": 12,
     "metadata": {},
     "output_type": "execute_result"
    }
   ],
   "source": [
    "stick_figures = [\n",
    "    {\n",
    "        \"name\": \"dakota\", \n",
    "        \"gpa\": 3.15,\n",
    "        \"sport\": \"basketball\",\n",
    "        \"footware\": \"sneakers\",\n",
    "        \"height\": 72,\n",
    "        \"friends\": 307\n",
    "    },\n",
    "    {\n",
    "        \"name\": \"charlie\", \n",
    "        \"gpa\": 1.1,\n",
    "        \"sport\": \"baseball\",\n",
    "        \"footware\": \"sandals\",\n",
    "        \"height\": 61,\n",
    "        \"friends\": 34\n",
    "    },\n",
    "    {\n",
    "        \"name\": \"hayden\", \n",
    "        \"gpa\": 3.5,\n",
    "        \"sport\": \"tennis\",\n",
    "        \"footware\": \"sandals\",\n",
    "        \"height\": 68,\n",
    "        \"friends\": 335\n",
    "    },\n",
    "    {\n",
    "        \"name\": \"kamryn\", \n",
    "        \"gpa\": 2.18,\n",
    "        \"sport\": \"soccer\",\n",
    "        \"footware\": \"sneakers\",\n",
    "        \"height\": 66,\n",
    "        \"friends\": 200\n",
    "    },\n",
    "    {\n",
    "        \"name\": \"emerson\", \n",
    "        \"gpa\": 3.06,\n",
    "        \"sport\": \"soccer\",\n",
    "        \"footware\": \"sneakers\",\n",
    "        \"height\": 65,\n",
    "        \"friends\": 213\n",
    "    },\n",
    "    {\n",
    "        \"name\": \"jessie\", \n",
    "        \"gpa\": 2.41,\n",
    "        \"sport\": \"basketball\",\n",
    "        \"footware\": \"sandals\",\n",
    "        \"height\": 61,\n",
    "        \"friends\": 202\n",
    "    },\n",
    "    {\n",
    "        \"name\": \"sawyer\", \n",
    "        \"gpa\": 2.96,\n",
    "        \"sport\": \"tennis\",\n",
    "        \"footware\": \"sandals\",\n",
    "        \"height\": 67,\n",
    "        \"friends\": 314\n",
    "    },\n",
    "    {\n",
    "        \"name\": \"london\", \n",
    "        \"gpa\": 3.98,\n",
    "        \"sport\": \"soccer\",\n",
    "        \"footware\": \"sneakers\",\n",
    "        \"height\": 64,\n",
    "        \"friends\": 436\n",
    "    }\n",
    "]\n",
    "\n",
    "stick_figures"
   ]
  },
  {
   "cell_type": "markdown",
   "metadata": {},
   "source": [
    "What is the mean height of people in our list? First, use pure Python functions (not the statistics module) to calculate this, and output to verify.\n",
    "\n",
    "*Hint: You may want to put all the heights in a list and then use that for your computations.*"
   ]
  },
  {
   "cell_type": "code",
   "execution_count": 14,
   "metadata": {},
   "outputs": [
    {
     "data": {
      "text/plain": [
       "65.5"
      ]
     },
     "execution_count": 14,
     "metadata": {},
     "output_type": "execute_result"
    }
   ],
   "source": [
    "heights = [person[\"height\"] for person in stick_figures]\n",
    "mean_height = sum(heights)/len(heights)\n",
    "mean_height"
   ]
  },
  {
   "cell_type": "markdown",
   "metadata": {},
   "source": [
    "Now, import NumPy (as np) and use its mean function to find the mean of the heights list directly."
   ]
  },
  {
   "cell_type": "code",
   "execution_count": 19,
   "metadata": {},
   "outputs": [
    {
     "data": {
      "text/plain": [
       "65.5"
      ]
     },
     "execution_count": 19,
     "metadata": {},
     "output_type": "execute_result"
    }
   ],
   "source": [
    "import numpy as np\n",
    "np.mean(heights)"
   ]
  },
  {
   "cell_type": "markdown",
   "metadata": {},
   "source": [
    "## Dictionary of Lists\n",
    "\n",
    "Using a dictionary and key/value pairs, represent each attribute (column) of a person as a key and all the values of each attribute as a list. That is, a dictionary of lists. Output the dict to verify."
   ]
  },
  {
   "cell_type": "code",
   "execution_count": 33,
   "metadata": {},
   "outputs": [],
   "source": [
    "myDict ={\n",
    "    \"names\": [person[\"name\"] for person in stick_figures],\n",
    "    \"gpas\": [person[\"gpa\"] for person in stick_figures],\n",
    "    \"sports\": [person[\"sport\"] for person in stick_figures],\n",
    "    \"footwares\": [person[\"footware\"] for person in stick_figures],\n",
    "    \"heights\": [person[\"height\"] for person in stick_figures],\n",
    "    \"friends\": [person[\"friends\"] for person in stick_figures]\n",
    "}"
   ]
  },
  {
   "cell_type": "markdown",
   "metadata": {},
   "source": [
    "Now use NumPy to get the mean in one statement."
   ]
  },
  {
   "cell_type": "code",
   "execution_count": 34,
   "metadata": {},
   "outputs": [
    {
     "data": {
      "text/plain": [
       "65.5"
      ]
     },
     "execution_count": 34,
     "metadata": {},
     "output_type": "execute_result"
    }
   ],
   "source": [
    "np.mean(myDict[\"heights\"])"
   ]
  },
  {
   "cell_type": "markdown",
   "metadata": {},
   "source": [
    "**So, which approach should we use? Or is there a better way? Hmmm...**"
   ]
  },
  {
   "cell_type": "code",
   "execution_count": 2,
   "metadata": {},
   "outputs": [],
   "source": [
    "import pandas as pd"
   ]
  },
  {
   "cell_type": "code",
   "execution_count": 3,
   "metadata": {},
   "outputs": [
    {
     "data": {
      "text/html": [
       "<div>\n",
       "<style scoped>\n",
       "    .dataframe tbody tr th:only-of-type {\n",
       "        vertical-align: middle;\n",
       "    }\n",
       "\n",
       "    .dataframe tbody tr th {\n",
       "        vertical-align: top;\n",
       "    }\n",
       "\n",
       "    .dataframe thead th {\n",
       "        text-align: right;\n",
       "    }\n",
       "</style>\n",
       "<table border=\"1\" class=\"dataframe\">\n",
       "  <thead>\n",
       "    <tr style=\"text-align: right;\">\n",
       "      <th></th>\n",
       "      <th>name</th>\n",
       "      <th>gpa</th>\n",
       "      <th>sport</th>\n",
       "      <th>footware</th>\n",
       "      <th>height</th>\n",
       "      <th>friends</th>\n",
       "    </tr>\n",
       "  </thead>\n",
       "  <tbody>\n",
       "    <tr>\n",
       "      <th>0</th>\n",
       "      <td>dakota</td>\n",
       "      <td>3.15</td>\n",
       "      <td>basketball</td>\n",
       "      <td>sneakers</td>\n",
       "      <td>72</td>\n",
       "      <td>307</td>\n",
       "    </tr>\n",
       "    <tr>\n",
       "      <th>1</th>\n",
       "      <td>charlie</td>\n",
       "      <td>1.10</td>\n",
       "      <td>baseball</td>\n",
       "      <td>sandals</td>\n",
       "      <td>61</td>\n",
       "      <td>34</td>\n",
       "    </tr>\n",
       "    <tr>\n",
       "      <th>2</th>\n",
       "      <td>hayden</td>\n",
       "      <td>3.50</td>\n",
       "      <td>tennis</td>\n",
       "      <td>sandals</td>\n",
       "      <td>68</td>\n",
       "      <td>335</td>\n",
       "    </tr>\n",
       "    <tr>\n",
       "      <th>3</th>\n",
       "      <td>kamryn</td>\n",
       "      <td>2.18</td>\n",
       "      <td>soccer</td>\n",
       "      <td>sneakers</td>\n",
       "      <td>66</td>\n",
       "      <td>200</td>\n",
       "    </tr>\n",
       "    <tr>\n",
       "      <th>4</th>\n",
       "      <td>emerson</td>\n",
       "      <td>3.06</td>\n",
       "      <td>soccer</td>\n",
       "      <td>sneakers</td>\n",
       "      <td>65</td>\n",
       "      <td>213</td>\n",
       "    </tr>\n",
       "    <tr>\n",
       "      <th>5</th>\n",
       "      <td>jessie</td>\n",
       "      <td>2.41</td>\n",
       "      <td>basketball</td>\n",
       "      <td>sandals</td>\n",
       "      <td>61</td>\n",
       "      <td>202</td>\n",
       "    </tr>\n",
       "    <tr>\n",
       "      <th>6</th>\n",
       "      <td>sawyer</td>\n",
       "      <td>2.96</td>\n",
       "      <td>tennis</td>\n",
       "      <td>sandals</td>\n",
       "      <td>67</td>\n",
       "      <td>314</td>\n",
       "    </tr>\n",
       "    <tr>\n",
       "      <th>7</th>\n",
       "      <td>london</td>\n",
       "      <td>3.98</td>\n",
       "      <td>soccer</td>\n",
       "      <td>sneakers</td>\n",
       "      <td>64</td>\n",
       "      <td>436</td>\n",
       "    </tr>\n",
       "  </tbody>\n",
       "</table>\n",
       "</div>"
      ],
      "text/plain": [
       "      name   gpa       sport  footware  height  friends\n",
       "0   dakota  3.15  basketball  sneakers      72      307\n",
       "1  charlie  1.10    baseball   sandals      61       34\n",
       "2   hayden  3.50      tennis   sandals      68      335\n",
       "3   kamryn  2.18      soccer  sneakers      66      200\n",
       "4  emerson  3.06      soccer  sneakers      65      213\n",
       "5   jessie  2.41  basketball   sandals      61      202\n",
       "6   sawyer  2.96      tennis   sandals      67      314\n",
       "7   london  3.98      soccer  sneakers      64      436"
      ]
     },
     "execution_count": 3,
     "metadata": {},
     "output_type": "execute_result"
    }
   ],
   "source": [
    "data_file = pd.read_csv('people.csv')\n",
    "data_file"
   ]
  },
  {
   "cell_type": "code",
   "execution_count": null,
   "metadata": {},
   "outputs": [],
   "source": []
  }
 ],
 "metadata": {
  "kernelspec": {
   "display_name": "Python 3",
   "language": "python",
   "name": "python3"
  },
  "language_info": {
   "codemirror_mode": {
    "name": "ipython",
    "version": 3
   },
   "file_extension": ".py",
   "mimetype": "text/x-python",
   "name": "python",
   "nbconvert_exporter": "python",
   "pygments_lexer": "ipython3",
   "version": "3.8.5"
  }
 },
 "nbformat": 4,
 "nbformat_minor": 5
}
