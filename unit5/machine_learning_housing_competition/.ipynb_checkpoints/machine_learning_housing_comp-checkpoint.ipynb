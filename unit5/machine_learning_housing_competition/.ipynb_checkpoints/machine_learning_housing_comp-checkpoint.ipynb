{
 "cells": [
  {
   "cell_type": "markdown",
   "id": "ae16ae4d",
   "metadata": {},
   "source": [
    "# Machine Learning Housing Competition\n",
    "#### By: MaryGrace Kane"
   ]
  },
  {
   "cell_type": "markdown",
   "id": "27e21ff6",
   "metadata": {},
   "source": [
    "### Ingesting Data"
   ]
  },
  {
   "cell_type": "code",
   "execution_count": 47,
   "id": "564d5939",
   "metadata": {},
   "outputs": [],
   "source": [
    "import pandas as pd\n",
    "train_data = pd.read_csv('train.csv')\n",
    "test_data = pd.read_csv('test.csv')"
   ]
  },
  {
   "cell_type": "markdown",
   "id": "9e2d7273",
   "metadata": {},
   "source": [
    "### Creating X and y & cleaning test_data"
   ]
  },
  {
   "cell_type": "code",
   "execution_count": 48,
   "id": "91abeecc",
   "metadata": {},
   "outputs": [],
   "source": [
    "X = train_data.dropna(axis='columns')._get_numeric_data().drop(['SalePrice'], axis=1)\n",
    "y = train_data.SalePrice"
   ]
  },
  {
   "cell_type": "markdown",
   "id": "a4f7432d",
   "metadata": {},
   "source": [
    "#### Citation for _get_numeric_data() : https://stackoverflow.com/questions/25039626/how-do-i-find-numeric-columns-in-pandas"
   ]
  },
  {
   "cell_type": "code",
   "execution_count": 49,
   "id": "e7bfa4e8",
   "metadata": {},
   "outputs": [],
   "source": [
    "X_test_data = train_data.dropna(axis='columns')._get_numeric_data().drop(['SalePrice'], axis=1)"
   ]
  },
  {
   "cell_type": "markdown",
   "id": "107f4349",
   "metadata": {},
   "source": [
    "### Splitting X and y"
   ]
  },
  {
   "cell_type": "code",
   "execution_count": 50,
   "id": "85c08dc4",
   "metadata": {},
   "outputs": [],
   "source": [
    "from sklearn.model_selection import train_test_split\n",
    "\n",
    "train_X, val_X, train_y, val_y = train_test_split(X, y, random_state = 1)"
   ]
  },
  {
   "cell_type": "markdown",
   "id": "07df1eb1",
   "metadata": {},
   "source": [
    "### DecisionTreeRegressor"
   ]
  },
  {
   "cell_type": "code",
   "execution_count": 51,
   "id": "47a6586e",
   "metadata": {},
   "outputs": [],
   "source": [
    "from sklearn.tree import DecisionTreeRegressor\n",
    "\n",
    "housing_model = DecisionTreeRegressor(random_state=1)\n",
    "housing_model.fit(train_X, train_y)\n",
    "\n",
    "val_predictions = housing_model.predict(val_X)"
   ]
  },
  {
   "cell_type": "code",
   "execution_count": 52,
   "id": "ab829f80",
   "metadata": {
    "scrolled": true
   },
   "outputs": [
    {
     "name": "stdout",
     "output_type": "stream",
     "text": [
      "26506.75616438356\n"
     ]
    }
   ],
   "source": [
    "from sklearn.metrics import mean_absolute_error\n",
    "val_mae = mean_absolute_error(val_y, val_predictions)\n",
    "print(val_mae)"
   ]
  },
  {
   "cell_type": "markdown",
   "id": "44e4eace",
   "metadata": {},
   "source": [
    "### RandomForestRegressor"
   ]
  },
  {
   "cell_type": "code",
   "execution_count": 53,
   "id": "e707dca7",
   "metadata": {},
   "outputs": [],
   "source": [
    "from sklearn.ensemble import RandomForestRegressor\n",
    "\n",
    "rf_model = RandomForestRegressor(random_state = 1)\n",
    "rf_model.fit(train_X, train_y)\n",
    "\n",
    "rf_val_predictions = rf_model.predict(val_X)"
   ]
  },
  {
   "cell_type": "code",
   "execution_count": 55,
   "id": "c600547b",
   "metadata": {},
   "outputs": [
    {
     "name": "stdout",
     "output_type": "stream",
     "text": [
      "17006.18194520548\n"
     ]
    }
   ],
   "source": [
    "rf_val_mae = mean_absolute_error(val_y, rf_val_predictions)\n",
    "print(rf_val_mae)"
   ]
  },
  {
   "cell_type": "markdown",
   "id": "d424f310",
   "metadata": {},
   "source": [
    "### Fitting to Full Data with Best Model"
   ]
  },
  {
   "cell_type": "code",
   "execution_count": 56,
   "id": "44255e89",
   "metadata": {},
   "outputs": [
    {
     "data": {
      "text/plain": [
       "RandomForestRegressor(random_state=1)"
      ]
     },
     "execution_count": 56,
     "metadata": {},
     "output_type": "execute_result"
    }
   ],
   "source": [
    "rf_model.fit(X, y)"
   ]
  },
  {
   "cell_type": "markdown",
   "id": "89bdce31",
   "metadata": {},
   "source": [
    "### Predicting using test_data"
   ]
  },
  {
   "cell_type": "code",
   "execution_count": 60,
   "id": "9007d164",
   "metadata": {},
   "outputs": [],
   "source": [
    "test_predictions = rf_model.predict(X_test_data)"
   ]
  },
  {
   "cell_type": "code",
   "execution_count": null,
   "id": "a23111b3",
   "metadata": {},
   "outputs": [],
   "source": []
  }
 ],
 "metadata": {
  "kernelspec": {
   "display_name": "Python 3 (ipykernel)",
   "language": "python",
   "name": "python3"
  },
  "language_info": {
   "codemirror_mode": {
    "name": "ipython",
    "version": 3
   },
   "file_extension": ".py",
   "mimetype": "text/x-python",
   "name": "python",
   "nbconvert_exporter": "python",
   "pygments_lexer": "ipython3",
   "version": "3.9.13"
  }
 },
 "nbformat": 4,
 "nbformat_minor": 5
}
