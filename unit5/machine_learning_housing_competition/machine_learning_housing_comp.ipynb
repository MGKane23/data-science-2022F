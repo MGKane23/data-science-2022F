{
 "cells": [
  {
   "cell_type": "markdown",
   "id": "80bb624c",
   "metadata": {},
   "source": [
    "# Machine Learning Housing Competition\n",
    "#### By: MaryGrace Kane"
   ]
  },
  {
   "cell_type": "markdown",
   "id": "007de251",
   "metadata": {},
   "source": [
    "### Ingesting Data"
   ]
  },
  {
   "cell_type": "code",
   "execution_count": 47,
   "id": "564d5939",
   "metadata": {},
   "outputs": [],
   "source": [
    "import pandas as pd\n",
    "train_data = pd.read_csv('train.csv')\n",
    "test_data = pd.read_csv('test.csv')"
   ]
  },
  {
   "cell_type": "markdown",
   "id": "8bb9e556",
   "metadata": {},
   "source": [
    "### Creating X and y & cleaning test_data"
   ]
  },
  {
   "cell_type": "code",
   "execution_count": 48,
   "id": "b59b18f0",
   "metadata": {},
   "outputs": [],
   "source": [
    "X = train_data.dropna(axis='columns')._get_numeric_data().drop(['SalePrice'], axis=1)\n",
    "y = train_data.SalePrice"
   ]
  },
  {
   "cell_type": "markdown",
   "id": "3d483573",
   "metadata": {},
   "source": [
    "#### Citation for _get_numeric_data() : https://stackoverflow.com/questions/25039626/how-do-i-find-numeric-columns-in-pandas"
   ]
  },
  {
   "cell_type": "code",
   "execution_count": 49,
   "id": "003577c6",
   "metadata": {},
   "outputs": [],
   "source": [
    "X_test_data = train_data.dropna(axis='columns')._get_numeric_data().drop(['SalePrice'], axis=1)"
   ]
  },
  {
   "cell_type": "markdown",
   "id": "07685b85",
   "metadata": {},
   "source": [
    "### Splitting X and y"
   ]
  },
  {
   "cell_type": "code",
   "execution_count": 50,
   "id": "f7e6258e",
   "metadata": {},
   "outputs": [],
   "source": [
    "from sklearn.model_selection import train_test_split\n",
    "\n",
    "train_X, val_X, train_y, val_y = train_test_split(X, y, random_state = 1)"
   ]
  },
  {
   "cell_type": "markdown",
   "id": "540684ab",
   "metadata": {},
   "source": [
    "### DecisionTreeRegressor"
   ]
  },
  {
   "cell_type": "code",
   "execution_count": 51,
   "id": "8a097a7b",
   "metadata": {},
   "outputs": [],
   "source": [
    "from sklearn.tree import DecisionTreeRegressor\n",
    "\n",
    "housing_model = DecisionTreeRegressor(random_state=1)\n",
    "housing_model.fit(train_X, train_y)\n",
    "\n",
    "val_predictions = housing_model.predict(val_X)"
   ]
  },
  {
   "cell_type": "code",
   "execution_count": 52,
   "id": "02c0983d",
   "metadata": {
    "scrolled": true
   },
   "outputs": [
    {
     "name": "stdout",
     "output_type": "stream",
     "text": [
      "26506.75616438356\n"
     ]
    }
   ],
   "source": [
    "from sklearn.metrics import mean_absolute_error\n",
    "val_mae = mean_absolute_error(val_y, val_predictions)\n",
    "print(val_mae)"
   ]
  },
  {
   "cell_type": "markdown",
   "id": "32a9e025",
   "metadata": {},
   "source": [
    "### RandomForestRegressor"
   ]
  },
  {
   "cell_type": "code",
   "execution_count": 53,
   "id": "dea4de2e",
   "metadata": {},
   "outputs": [],
   "source": [
    "from sklearn.ensemble import RandomForestRegressor\n",
    "\n",
    "rf_model = RandomForestRegressor(random_state = 1)\n",
    "rf_model.fit(train_X, train_y)\n",
    "\n",
    "rf_val_predictions = rf_model.predict(val_X)"
   ]
  },
  {
   "cell_type": "code",
   "execution_count": 55,
   "id": "c6541d5b",
   "metadata": {},
   "outputs": [
    {
     "name": "stdout",
     "output_type": "stream",
     "text": [
      "17006.18194520548\n"
     ]
    }
   ],
   "source": [
    "rf_val_mae = mean_absolute_error(val_y, rf_val_predictions)\n",
    "print(rf_val_mae)"
   ]
  },
  {
   "cell_type": "markdown",
   "id": "315277bd",
   "metadata": {},
   "source": [
    "### Fitting to Full Data with Best Model"
   ]
  },
  {
   "cell_type": "code",
   "execution_count": 56,
   "id": "9180a619",
   "metadata": {},
   "outputs": [
    {
     "data": {
      "text/plain": [
       "RandomForestRegressor(random_state=1)"
      ]
     },
     "execution_count": 56,
     "metadata": {},
     "output_type": "execute_result"
    }
   ],
   "source": [
    "rf_model.fit(X, y)"
   ]
  },
  {
   "cell_type": "markdown",
   "id": "3b5e078c",
   "metadata": {},
   "source": [
    "### Predicting using test_data"
   ]
  },
  {
   "cell_type": "code",
   "execution_count": 60,
   "id": "0ad94f93",
   "metadata": {},
   "outputs": [],
   "source": [
    "test_predictions = rf_model.predict(X_test_data)"
   ]
  },
  {
   "cell_type": "markdown",
   "id": "c65084da",
   "metadata": {},
   "source": [
    "### Create Output Dataframe"
   ]
  },
  {
   "cell_type": "code",
   "execution_count": 61,
   "id": "a516074e",
   "metadata": {},
   "outputs": [],
   "source": [
    "output = pd.DataFrame({'Id': X_test_data.Id, 'SalePrice': test_predictions})\n",
    "output.to_csv('submission2.csv', index = False)"
   ]
  }
 ],
 "metadata": {
  "kernelspec": {
   "display_name": "Python 3 (ipykernel)",
   "language": "python",
   "name": "python3"
  },
  "language_info": {
   "codemirror_mode": {
    "name": "ipython",
    "version": 3
   },
   "file_extension": ".py",
   "mimetype": "text/x-python",
   "name": "python",
   "nbconvert_exporter": "python",
   "pygments_lexer": "ipython3",
   "version": "3.9.13"
  }
 },
 "nbformat": 4,
 "nbformat_minor": 5
}
