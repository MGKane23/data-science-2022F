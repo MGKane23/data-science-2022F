{
 "cells": [
  {
   "cell_type": "markdown",
   "id": "f3787874",
   "metadata": {},
   "source": [
    "# Spaceship Titanic Competition\n",
    "### By: MaryGrace Kane"
   ]
  },
  {
   "cell_type": "code",
   "execution_count": 399,
   "id": "5cd844cb",
   "metadata": {},
   "outputs": [
    {
     "data": {
      "text/html": [
       "<div>\n",
       "<style scoped>\n",
       "    .dataframe tbody tr th:only-of-type {\n",
       "        vertical-align: middle;\n",
       "    }\n",
       "\n",
       "    .dataframe tbody tr th {\n",
       "        vertical-align: top;\n",
       "    }\n",
       "\n",
       "    .dataframe thead th {\n",
       "        text-align: right;\n",
       "    }\n",
       "</style>\n",
       "<table border=\"1\" class=\"dataframe\">\n",
       "  <thead>\n",
       "    <tr style=\"text-align: right;\">\n",
       "      <th></th>\n",
       "      <th>PassengerId</th>\n",
       "      <th>HomePlanet</th>\n",
       "      <th>CryoSleep</th>\n",
       "      <th>Cabin</th>\n",
       "      <th>Destination</th>\n",
       "      <th>Age</th>\n",
       "      <th>VIP</th>\n",
       "      <th>RoomService</th>\n",
       "      <th>FoodCourt</th>\n",
       "      <th>ShoppingMall</th>\n",
       "      <th>Spa</th>\n",
       "      <th>VRDeck</th>\n",
       "      <th>Name</th>\n",
       "      <th>Transported</th>\n",
       "    </tr>\n",
       "  </thead>\n",
       "  <tbody>\n",
       "    <tr>\n",
       "      <th>0</th>\n",
       "      <td>0001_01</td>\n",
       "      <td>Europa</td>\n",
       "      <td>False</td>\n",
       "      <td>B/0/P</td>\n",
       "      <td>TRAPPIST-1e</td>\n",
       "      <td>39.0</td>\n",
       "      <td>False</td>\n",
       "      <td>0.0</td>\n",
       "      <td>0.0</td>\n",
       "      <td>0.0</td>\n",
       "      <td>0.0</td>\n",
       "      <td>0.0</td>\n",
       "      <td>Maham Ofracculy</td>\n",
       "      <td>False</td>\n",
       "    </tr>\n",
       "    <tr>\n",
       "      <th>1</th>\n",
       "      <td>0002_01</td>\n",
       "      <td>Earth</td>\n",
       "      <td>False</td>\n",
       "      <td>F/0/S</td>\n",
       "      <td>TRAPPIST-1e</td>\n",
       "      <td>24.0</td>\n",
       "      <td>False</td>\n",
       "      <td>109.0</td>\n",
       "      <td>9.0</td>\n",
       "      <td>25.0</td>\n",
       "      <td>549.0</td>\n",
       "      <td>44.0</td>\n",
       "      <td>Juanna Vines</td>\n",
       "      <td>True</td>\n",
       "    </tr>\n",
       "    <tr>\n",
       "      <th>2</th>\n",
       "      <td>0003_01</td>\n",
       "      <td>Europa</td>\n",
       "      <td>False</td>\n",
       "      <td>A/0/S</td>\n",
       "      <td>TRAPPIST-1e</td>\n",
       "      <td>58.0</td>\n",
       "      <td>True</td>\n",
       "      <td>43.0</td>\n",
       "      <td>3576.0</td>\n",
       "      <td>0.0</td>\n",
       "      <td>6715.0</td>\n",
       "      <td>49.0</td>\n",
       "      <td>Altark Susent</td>\n",
       "      <td>False</td>\n",
       "    </tr>\n",
       "    <tr>\n",
       "      <th>3</th>\n",
       "      <td>0003_02</td>\n",
       "      <td>Europa</td>\n",
       "      <td>False</td>\n",
       "      <td>A/0/S</td>\n",
       "      <td>TRAPPIST-1e</td>\n",
       "      <td>33.0</td>\n",
       "      <td>False</td>\n",
       "      <td>0.0</td>\n",
       "      <td>1283.0</td>\n",
       "      <td>371.0</td>\n",
       "      <td>3329.0</td>\n",
       "      <td>193.0</td>\n",
       "      <td>Solam Susent</td>\n",
       "      <td>False</td>\n",
       "    </tr>\n",
       "    <tr>\n",
       "      <th>4</th>\n",
       "      <td>0004_01</td>\n",
       "      <td>Earth</td>\n",
       "      <td>False</td>\n",
       "      <td>F/1/S</td>\n",
       "      <td>TRAPPIST-1e</td>\n",
       "      <td>16.0</td>\n",
       "      <td>False</td>\n",
       "      <td>303.0</td>\n",
       "      <td>70.0</td>\n",
       "      <td>151.0</td>\n",
       "      <td>565.0</td>\n",
       "      <td>2.0</td>\n",
       "      <td>Willy Santantines</td>\n",
       "      <td>True</td>\n",
       "    </tr>\n",
       "    <tr>\n",
       "      <th>...</th>\n",
       "      <td>...</td>\n",
       "      <td>...</td>\n",
       "      <td>...</td>\n",
       "      <td>...</td>\n",
       "      <td>...</td>\n",
       "      <td>...</td>\n",
       "      <td>...</td>\n",
       "      <td>...</td>\n",
       "      <td>...</td>\n",
       "      <td>...</td>\n",
       "      <td>...</td>\n",
       "      <td>...</td>\n",
       "      <td>...</td>\n",
       "      <td>...</td>\n",
       "    </tr>\n",
       "    <tr>\n",
       "      <th>8688</th>\n",
       "      <td>9276_01</td>\n",
       "      <td>Europa</td>\n",
       "      <td>False</td>\n",
       "      <td>A/98/P</td>\n",
       "      <td>55 Cancri e</td>\n",
       "      <td>41.0</td>\n",
       "      <td>True</td>\n",
       "      <td>0.0</td>\n",
       "      <td>6819.0</td>\n",
       "      <td>0.0</td>\n",
       "      <td>1643.0</td>\n",
       "      <td>74.0</td>\n",
       "      <td>Gravior Noxnuther</td>\n",
       "      <td>False</td>\n",
       "    </tr>\n",
       "    <tr>\n",
       "      <th>8689</th>\n",
       "      <td>9278_01</td>\n",
       "      <td>Earth</td>\n",
       "      <td>True</td>\n",
       "      <td>G/1499/S</td>\n",
       "      <td>PSO J318.5-22</td>\n",
       "      <td>18.0</td>\n",
       "      <td>False</td>\n",
       "      <td>0.0</td>\n",
       "      <td>0.0</td>\n",
       "      <td>0.0</td>\n",
       "      <td>0.0</td>\n",
       "      <td>0.0</td>\n",
       "      <td>Kurta Mondalley</td>\n",
       "      <td>False</td>\n",
       "    </tr>\n",
       "    <tr>\n",
       "      <th>8690</th>\n",
       "      <td>9279_01</td>\n",
       "      <td>Earth</td>\n",
       "      <td>False</td>\n",
       "      <td>G/1500/S</td>\n",
       "      <td>TRAPPIST-1e</td>\n",
       "      <td>26.0</td>\n",
       "      <td>False</td>\n",
       "      <td>0.0</td>\n",
       "      <td>0.0</td>\n",
       "      <td>1872.0</td>\n",
       "      <td>1.0</td>\n",
       "      <td>0.0</td>\n",
       "      <td>Fayey Connon</td>\n",
       "      <td>True</td>\n",
       "    </tr>\n",
       "    <tr>\n",
       "      <th>8691</th>\n",
       "      <td>9280_01</td>\n",
       "      <td>Europa</td>\n",
       "      <td>False</td>\n",
       "      <td>E/608/S</td>\n",
       "      <td>55 Cancri e</td>\n",
       "      <td>32.0</td>\n",
       "      <td>False</td>\n",
       "      <td>0.0</td>\n",
       "      <td>1049.0</td>\n",
       "      <td>0.0</td>\n",
       "      <td>353.0</td>\n",
       "      <td>3235.0</td>\n",
       "      <td>Celeon Hontichre</td>\n",
       "      <td>False</td>\n",
       "    </tr>\n",
       "    <tr>\n",
       "      <th>8692</th>\n",
       "      <td>9280_02</td>\n",
       "      <td>Europa</td>\n",
       "      <td>False</td>\n",
       "      <td>E/608/S</td>\n",
       "      <td>TRAPPIST-1e</td>\n",
       "      <td>44.0</td>\n",
       "      <td>False</td>\n",
       "      <td>126.0</td>\n",
       "      <td>4688.0</td>\n",
       "      <td>0.0</td>\n",
       "      <td>0.0</td>\n",
       "      <td>12.0</td>\n",
       "      <td>Propsh Hontichre</td>\n",
       "      <td>True</td>\n",
       "    </tr>\n",
       "  </tbody>\n",
       "</table>\n",
       "<p>8693 rows × 14 columns</p>\n",
       "</div>"
      ],
      "text/plain": [
       "     PassengerId HomePlanet CryoSleep     Cabin    Destination   Age    VIP  \\\n",
       "0        0001_01     Europa     False     B/0/P    TRAPPIST-1e  39.0  False   \n",
       "1        0002_01      Earth     False     F/0/S    TRAPPIST-1e  24.0  False   \n",
       "2        0003_01     Europa     False     A/0/S    TRAPPIST-1e  58.0   True   \n",
       "3        0003_02     Europa     False     A/0/S    TRAPPIST-1e  33.0  False   \n",
       "4        0004_01      Earth     False     F/1/S    TRAPPIST-1e  16.0  False   \n",
       "...          ...        ...       ...       ...            ...   ...    ...   \n",
       "8688     9276_01     Europa     False    A/98/P    55 Cancri e  41.0   True   \n",
       "8689     9278_01      Earth      True  G/1499/S  PSO J318.5-22  18.0  False   \n",
       "8690     9279_01      Earth     False  G/1500/S    TRAPPIST-1e  26.0  False   \n",
       "8691     9280_01     Europa     False   E/608/S    55 Cancri e  32.0  False   \n",
       "8692     9280_02     Europa     False   E/608/S    TRAPPIST-1e  44.0  False   \n",
       "\n",
       "      RoomService  FoodCourt  ShoppingMall     Spa  VRDeck               Name  \\\n",
       "0             0.0        0.0           0.0     0.0     0.0    Maham Ofracculy   \n",
       "1           109.0        9.0          25.0   549.0    44.0       Juanna Vines   \n",
       "2            43.0     3576.0           0.0  6715.0    49.0      Altark Susent   \n",
       "3             0.0     1283.0         371.0  3329.0   193.0       Solam Susent   \n",
       "4           303.0       70.0         151.0   565.0     2.0  Willy Santantines   \n",
       "...           ...        ...           ...     ...     ...                ...   \n",
       "8688          0.0     6819.0           0.0  1643.0    74.0  Gravior Noxnuther   \n",
       "8689          0.0        0.0           0.0     0.0     0.0    Kurta Mondalley   \n",
       "8690          0.0        0.0        1872.0     1.0     0.0       Fayey Connon   \n",
       "8691          0.0     1049.0           0.0   353.0  3235.0   Celeon Hontichre   \n",
       "8692        126.0     4688.0           0.0     0.0    12.0   Propsh Hontichre   \n",
       "\n",
       "      Transported  \n",
       "0           False  \n",
       "1            True  \n",
       "2           False  \n",
       "3           False  \n",
       "4            True  \n",
       "...           ...  \n",
       "8688        False  \n",
       "8689        False  \n",
       "8690         True  \n",
       "8691        False  \n",
       "8692         True  \n",
       "\n",
       "[8693 rows x 14 columns]"
      ]
     },
     "execution_count": 399,
     "metadata": {},
     "output_type": "execute_result"
    }
   ],
   "source": [
    "import pandas as pd\n",
    "import numpy as np\n",
    "train_data = pd.read_csv('train.csv')\n",
    "test_data = pd.read_csv('test.csv')\n",
    "train_data"
   ]
  },
  {
   "cell_type": "markdown",
   "id": "16daa866",
   "metadata": {},
   "source": [
    "### Checking which columns have null values"
   ]
  },
  {
   "cell_type": "code",
   "execution_count": 370,
   "id": "e1856fc0",
   "metadata": {},
   "outputs": [
    {
     "data": {
      "text/plain": [
       "PassengerId     False\n",
       "HomePlanet       True\n",
       "CryoSleep        True\n",
       "Cabin            True\n",
       "Destination      True\n",
       "Age              True\n",
       "VIP              True\n",
       "RoomService      True\n",
       "FoodCourt        True\n",
       "ShoppingMall     True\n",
       "Spa              True\n",
       "VRDeck           True\n",
       "Name             True\n",
       "Transported     False\n",
       "dtype: bool"
      ]
     },
     "execution_count": 370,
     "metadata": {},
     "output_type": "execute_result"
    }
   ],
   "source": [
    "train_data.isnull().any()"
   ]
  },
  {
   "cell_type": "markdown",
   "id": "8acc60cf",
   "metadata": {},
   "source": [
    "### Splitting X & y"
   ]
  },
  {
   "cell_type": "code",
   "execution_count": 371,
   "id": "0a7ecd90",
   "metadata": {},
   "outputs": [],
   "source": [
    "X = train_data.drop('Transported', axis=1)\n",
    "y = train_data['Transported']"
   ]
  },
  {
   "cell_type": "markdown",
   "id": "42232394",
   "metadata": {},
   "source": [
    "### Splitting Cabin Column into 3 Columns"
   ]
  },
  {
   "cell_type": "code",
   "execution_count": 372,
   "id": "c63eb00e",
   "metadata": {},
   "outputs": [],
   "source": [
    "X[['deck', 'cabin_num', 'side']] = X['Cabin'].str.split('/', expand=True)\n",
    "X.drop('Cabin', axis=1, inplace=True)"
   ]
  },
  {
   "cell_type": "code",
   "execution_count": 373,
   "id": "d5c10265",
   "metadata": {},
   "outputs": [],
   "source": [
    "test_data[['deck', 'cabin_num', 'side']] = test_data['Cabin'].str.split('/', expand=True)\n",
    "test_data.drop('Cabin', axis=1, inplace=True)"
   ]
  },
  {
   "cell_type": "markdown",
   "id": "ef1f038f",
   "metadata": {},
   "source": [
    "### Splitting into X_train, y_train, X_valid, y_valid"
   ]
  },
  {
   "cell_type": "code",
   "execution_count": 374,
   "id": "460ff532",
   "metadata": {},
   "outputs": [],
   "source": [
    "from sklearn.model_selection import train_test_split\n",
    "\n",
    "X_train, X_valid, y_train, y_valid = train_test_split(X, y, random_state = 1)"
   ]
  },
  {
   "cell_type": "markdown",
   "id": "7d70e939",
   "metadata": {},
   "source": [
    "### Separating Numerical & Categorical Columns"
   ]
  },
  {
   "cell_type": "code",
   "execution_count": 375,
   "id": "f8aad556",
   "metadata": {},
   "outputs": [],
   "source": [
    "cols_missing = [col for col in X_train.columns if X_train[col].isnull().any()]\n",
    "cols_missing_cat = [col for col in X_train.columns if (X_train[col].dtypes == object) & (col in cols_missing)]\n",
    "cols_missing_num = [col for col in X_train.columns if (X_train[col].dtypes != object) & (col in cols_missing)]"
   ]
  },
  {
   "cell_type": "markdown",
   "id": "25cc0682",
   "metadata": {},
   "source": [
    "### Imputing Numerical Columns"
   ]
  },
  {
   "cell_type": "code",
   "execution_count": 376,
   "id": "6762157f",
   "metadata": {},
   "outputs": [],
   "source": [
    "from sklearn.impute import SimpleImputer\n",
    "imputer = SimpleImputer()\n",
    "\n",
    "imputer_X_train = pd.DataFrame(imputer.fit_transform(X_train[cols_missing_num]))\n",
    "imputer_X_train.columns = cols_missing_num\n",
    "\n",
    "imputer_X_valid = pd.DataFrame(imputer.transform(X_valid[cols_missing_num]))\n",
    "imputer_X_valid.columns = cols_missing_num\n",
    "\n",
    "imputer_X_train.index = X_train.index\n",
    "imputer_X_valid.index = X_valid.index"
   ]
  },
  {
   "cell_type": "markdown",
   "id": "da5b32b8",
   "metadata": {},
   "source": [
    "### Checking Number of Unique Values per Categorical Column"
   ]
  },
  {
   "cell_type": "code",
   "execution_count": 377,
   "id": "9a41a177",
   "metadata": {
    "scrolled": false
   },
   "outputs": [
    {
     "data": {
      "text/plain": [
       "[('CryoSleep', 2),\n",
       " ('VIP', 2),\n",
       " ('side', 2),\n",
       " ('HomePlanet', 3),\n",
       " ('Destination', 3),\n",
       " ('deck', 8),\n",
       " ('cabin_num', 1714),\n",
       " ('Name', 6358)]"
      ]
     },
     "execution_count": 377,
     "metadata": {},
     "output_type": "execute_result"
    }
   ],
   "source": [
    "object_nunique = list(map(lambda col: X_train[col].nunique(), cols_missing_cat))\n",
    "d = dict(zip(cols_missing_cat, object_nunique))\n",
    "\n",
    "sorted(d.items(), key=lambda x: x[1])"
   ]
  },
  {
   "cell_type": "markdown",
   "id": "480f78c8",
   "metadata": {},
   "source": [
    "### Removing categorical columns that can't be imputed"
   ]
  },
  {
   "cell_type": "code",
   "execution_count": 378,
   "id": "0e0f2798",
   "metadata": {},
   "outputs": [],
   "source": [
    "cols_missing_cat.remove('Name')"
   ]
  },
  {
   "cell_type": "code",
   "execution_count": 379,
   "id": "a19319ac",
   "metadata": {},
   "outputs": [
    {
     "data": {
      "text/plain": [
       "['HomePlanet', 'CryoSleep', 'Destination', 'VIP', 'deck', 'cabin_num', 'side']"
      ]
     },
     "execution_count": 379,
     "metadata": {},
     "output_type": "execute_result"
    }
   ],
   "source": [
    "cols_missing_cat"
   ]
  },
  {
   "cell_type": "markdown",
   "id": "cc29f766",
   "metadata": {},
   "source": [
    "### OneHotEncoding Categorical Columns"
   ]
  },
  {
   "cell_type": "code",
   "execution_count": 380,
   "id": "985e8d0c",
   "metadata": {},
   "outputs": [],
   "source": [
    "from sklearn.preprocessing import OneHotEncoder\n",
    "OH_encoder = OneHotEncoder(handle_unknown='ignore', sparse=False)\n",
    "OH_cols_train = pd.DataFrame(OH_encoder.fit_transform(X_train[cols_missing_cat]))\n",
    "OH_cols_valid = pd.DataFrame(OH_encoder.transform(X_valid[cols_missing_cat]))\n",
    "\n",
    "OH_cols_train.index = X_train.index\n",
    "OH_cols_valid.index = X_valid.index\n",
    "\n",
    "OH_cols_train.columns = OH_encoder.get_feature_names_out()\n",
    "OH_cols_valid.columns = OH_encoder.get_feature_names_out()\n",
    "\n",
    "num_X_train = X_train.drop(cols_missing_cat, axis=1)\n",
    "num_X_valid = X_valid.drop(cols_missing_cat, axis=1)\n",
    "\n",
    "OH_X_train = pd.concat([num_X_train, OH_cols_train], axis=1)\n",
    "OH_X_valid = pd.concat([num_X_valid, OH_cols_valid], axis=1)"
   ]
  },
  {
   "cell_type": "markdown",
   "id": "6199ee74",
   "metadata": {},
   "source": [
    "### Concatenating Imputed & OneHotEncoded Dataframe"
   ]
  },
  {
   "cell_type": "code",
   "execution_count": 381,
   "id": "8c9666b3",
   "metadata": {},
   "outputs": [],
   "source": [
    "OH_X_train.drop(cols_missing_num, axis = 1, inplace = True)"
   ]
  },
  {
   "cell_type": "code",
   "execution_count": 382,
   "id": "71be9747",
   "metadata": {},
   "outputs": [
    {
     "data": {
      "text/plain": [
       "PassengerId          False\n",
       "Name                  True\n",
       "HomePlanet_Earth     False\n",
       "HomePlanet_Europa    False\n",
       "HomePlanet_Mars      False\n",
       "                     ...  \n",
       "cabin_num_999        False\n",
       "cabin_num_nan        False\n",
       "side_P               False\n",
       "side_S               False\n",
       "side_nan             False\n",
       "Length: 1743, dtype: bool"
      ]
     },
     "execution_count": 382,
     "metadata": {},
     "output_type": "execute_result"
    }
   ],
   "source": [
    "OH_X_train.isnull().any()"
   ]
  },
  {
   "cell_type": "code",
   "execution_count": 383,
   "id": "8774da6d",
   "metadata": {
    "scrolled": true
   },
   "outputs": [
    {
     "data": {
      "text/plain": [
       "Age             False\n",
       "RoomService     False\n",
       "FoodCourt       False\n",
       "ShoppingMall    False\n",
       "Spa             False\n",
       "VRDeck          False\n",
       "dtype: bool"
      ]
     },
     "execution_count": 383,
     "metadata": {},
     "output_type": "execute_result"
    }
   ],
   "source": [
    "imputer_X_train.isnull().any()"
   ]
  },
  {
   "cell_type": "code",
   "execution_count": 384,
   "id": "bac0d0ed",
   "metadata": {
    "scrolled": false
   },
   "outputs": [
    {
     "data": {
      "text/html": [
       "<div>\n",
       "<style scoped>\n",
       "    .dataframe tbody tr th:only-of-type {\n",
       "        vertical-align: middle;\n",
       "    }\n",
       "\n",
       "    .dataframe tbody tr th {\n",
       "        vertical-align: top;\n",
       "    }\n",
       "\n",
       "    .dataframe thead th {\n",
       "        text-align: right;\n",
       "    }\n",
       "</style>\n",
       "<table border=\"1\" class=\"dataframe\">\n",
       "  <thead>\n",
       "    <tr style=\"text-align: right;\">\n",
       "      <th></th>\n",
       "      <th>PassengerId</th>\n",
       "      <th>Name</th>\n",
       "      <th>HomePlanet_Earth</th>\n",
       "      <th>HomePlanet_Europa</th>\n",
       "      <th>HomePlanet_Mars</th>\n",
       "      <th>HomePlanet_nan</th>\n",
       "      <th>CryoSleep_False</th>\n",
       "      <th>CryoSleep_True</th>\n",
       "      <th>CryoSleep_nan</th>\n",
       "      <th>Destination_55 Cancri e</th>\n",
       "      <th>...</th>\n",
       "      <th>cabin_num_993</th>\n",
       "      <th>cabin_num_994</th>\n",
       "      <th>cabin_num_995</th>\n",
       "      <th>cabin_num_997</th>\n",
       "      <th>cabin_num_998</th>\n",
       "      <th>cabin_num_999</th>\n",
       "      <th>cabin_num_nan</th>\n",
       "      <th>side_P</th>\n",
       "      <th>side_S</th>\n",
       "      <th>side_nan</th>\n",
       "    </tr>\n",
       "  </thead>\n",
       "  <tbody>\n",
       "    <tr>\n",
       "      <th>1554</th>\n",
       "      <td>1650_01</td>\n",
       "      <td>Walla Hodes</td>\n",
       "      <td>1.0</td>\n",
       "      <td>0.0</td>\n",
       "      <td>0.0</td>\n",
       "      <td>0.0</td>\n",
       "      <td>0.0</td>\n",
       "      <td>1.0</td>\n",
       "      <td>0.0</td>\n",
       "      <td>1.0</td>\n",
       "      <td>...</td>\n",
       "      <td>0.0</td>\n",
       "      <td>0.0</td>\n",
       "      <td>0.0</td>\n",
       "      <td>0.0</td>\n",
       "      <td>0.0</td>\n",
       "      <td>0.0</td>\n",
       "      <td>0.0</td>\n",
       "      <td>0.0</td>\n",
       "      <td>1.0</td>\n",
       "      <td>0.0</td>\n",
       "    </tr>\n",
       "    <tr>\n",
       "      <th>5941</th>\n",
       "      <td>6302_06</td>\n",
       "      <td>Branca Simsey</td>\n",
       "      <td>1.0</td>\n",
       "      <td>0.0</td>\n",
       "      <td>0.0</td>\n",
       "      <td>0.0</td>\n",
       "      <td>1.0</td>\n",
       "      <td>0.0</td>\n",
       "      <td>0.0</td>\n",
       "      <td>1.0</td>\n",
       "      <td>...</td>\n",
       "      <td>0.0</td>\n",
       "      <td>0.0</td>\n",
       "      <td>0.0</td>\n",
       "      <td>0.0</td>\n",
       "      <td>0.0</td>\n",
       "      <td>0.0</td>\n",
       "      <td>0.0</td>\n",
       "      <td>1.0</td>\n",
       "      <td>0.0</td>\n",
       "      <td>0.0</td>\n",
       "    </tr>\n",
       "    <tr>\n",
       "      <th>4194</th>\n",
       "      <td>4473_02</td>\n",
       "      <td>Terek Welte</td>\n",
       "      <td>0.0</td>\n",
       "      <td>0.0</td>\n",
       "      <td>1.0</td>\n",
       "      <td>0.0</td>\n",
       "      <td>1.0</td>\n",
       "      <td>0.0</td>\n",
       "      <td>0.0</td>\n",
       "      <td>0.0</td>\n",
       "      <td>...</td>\n",
       "      <td>0.0</td>\n",
       "      <td>0.0</td>\n",
       "      <td>0.0</td>\n",
       "      <td>0.0</td>\n",
       "      <td>0.0</td>\n",
       "      <td>0.0</td>\n",
       "      <td>0.0</td>\n",
       "      <td>0.0</td>\n",
       "      <td>1.0</td>\n",
       "      <td>0.0</td>\n",
       "    </tr>\n",
       "    <tr>\n",
       "      <th>7837</th>\n",
       "      <td>8366_03</td>\n",
       "      <td>Jodia Russon</td>\n",
       "      <td>1.0</td>\n",
       "      <td>0.0</td>\n",
       "      <td>0.0</td>\n",
       "      <td>0.0</td>\n",
       "      <td>0.0</td>\n",
       "      <td>1.0</td>\n",
       "      <td>0.0</td>\n",
       "      <td>0.0</td>\n",
       "      <td>...</td>\n",
       "      <td>0.0</td>\n",
       "      <td>0.0</td>\n",
       "      <td>0.0</td>\n",
       "      <td>0.0</td>\n",
       "      <td>0.0</td>\n",
       "      <td>0.0</td>\n",
       "      <td>0.0</td>\n",
       "      <td>1.0</td>\n",
       "      <td>0.0</td>\n",
       "      <td>0.0</td>\n",
       "    </tr>\n",
       "    <tr>\n",
       "      <th>1232</th>\n",
       "      <td>1308_01</td>\n",
       "      <td>Diram Plegred</td>\n",
       "      <td>0.0</td>\n",
       "      <td>1.0</td>\n",
       "      <td>0.0</td>\n",
       "      <td>0.0</td>\n",
       "      <td>0.0</td>\n",
       "      <td>1.0</td>\n",
       "      <td>0.0</td>\n",
       "      <td>1.0</td>\n",
       "      <td>...</td>\n",
       "      <td>0.0</td>\n",
       "      <td>0.0</td>\n",
       "      <td>0.0</td>\n",
       "      <td>0.0</td>\n",
       "      <td>0.0</td>\n",
       "      <td>0.0</td>\n",
       "      <td>1.0</td>\n",
       "      <td>0.0</td>\n",
       "      <td>0.0</td>\n",
       "      <td>1.0</td>\n",
       "    </tr>\n",
       "    <tr>\n",
       "      <th>...</th>\n",
       "      <td>...</td>\n",
       "      <td>...</td>\n",
       "      <td>...</td>\n",
       "      <td>...</td>\n",
       "      <td>...</td>\n",
       "      <td>...</td>\n",
       "      <td>...</td>\n",
       "      <td>...</td>\n",
       "      <td>...</td>\n",
       "      <td>...</td>\n",
       "      <td>...</td>\n",
       "      <td>...</td>\n",
       "      <td>...</td>\n",
       "      <td>...</td>\n",
       "      <td>...</td>\n",
       "      <td>...</td>\n",
       "      <td>...</td>\n",
       "      <td>...</td>\n",
       "      <td>...</td>\n",
       "      <td>...</td>\n",
       "      <td>...</td>\n",
       "    </tr>\n",
       "    <tr>\n",
       "      <th>2895</th>\n",
       "      <td>3130_01</td>\n",
       "      <td>Mall Frasp</td>\n",
       "      <td>0.0</td>\n",
       "      <td>0.0</td>\n",
       "      <td>1.0</td>\n",
       "      <td>0.0</td>\n",
       "      <td>1.0</td>\n",
       "      <td>0.0</td>\n",
       "      <td>0.0</td>\n",
       "      <td>0.0</td>\n",
       "      <td>...</td>\n",
       "      <td>0.0</td>\n",
       "      <td>0.0</td>\n",
       "      <td>0.0</td>\n",
       "      <td>0.0</td>\n",
       "      <td>0.0</td>\n",
       "      <td>0.0</td>\n",
       "      <td>0.0</td>\n",
       "      <td>0.0</td>\n",
       "      <td>1.0</td>\n",
       "      <td>0.0</td>\n",
       "    </tr>\n",
       "    <tr>\n",
       "      <th>7813</th>\n",
       "      <td>8339_01</td>\n",
       "      <td>Markton Dratembid</td>\n",
       "      <td>0.0</td>\n",
       "      <td>1.0</td>\n",
       "      <td>0.0</td>\n",
       "      <td>0.0</td>\n",
       "      <td>1.0</td>\n",
       "      <td>0.0</td>\n",
       "      <td>0.0</td>\n",
       "      <td>0.0</td>\n",
       "      <td>...</td>\n",
       "      <td>0.0</td>\n",
       "      <td>0.0</td>\n",
       "      <td>0.0</td>\n",
       "      <td>0.0</td>\n",
       "      <td>0.0</td>\n",
       "      <td>0.0</td>\n",
       "      <td>0.0</td>\n",
       "      <td>0.0</td>\n",
       "      <td>1.0</td>\n",
       "      <td>0.0</td>\n",
       "    </tr>\n",
       "    <tr>\n",
       "      <th>905</th>\n",
       "      <td>0978_01</td>\n",
       "      <td>Lesley Coxterez</td>\n",
       "      <td>1.0</td>\n",
       "      <td>0.0</td>\n",
       "      <td>0.0</td>\n",
       "      <td>0.0</td>\n",
       "      <td>1.0</td>\n",
       "      <td>0.0</td>\n",
       "      <td>0.0</td>\n",
       "      <td>0.0</td>\n",
       "      <td>...</td>\n",
       "      <td>0.0</td>\n",
       "      <td>0.0</td>\n",
       "      <td>0.0</td>\n",
       "      <td>0.0</td>\n",
       "      <td>0.0</td>\n",
       "      <td>0.0</td>\n",
       "      <td>0.0</td>\n",
       "      <td>1.0</td>\n",
       "      <td>0.0</td>\n",
       "      <td>0.0</td>\n",
       "    </tr>\n",
       "    <tr>\n",
       "      <th>5192</th>\n",
       "      <td>5538_01</td>\n",
       "      <td>Diedow Gele</td>\n",
       "      <td>0.0</td>\n",
       "      <td>0.0</td>\n",
       "      <td>1.0</td>\n",
       "      <td>0.0</td>\n",
       "      <td>0.0</td>\n",
       "      <td>1.0</td>\n",
       "      <td>0.0</td>\n",
       "      <td>0.0</td>\n",
       "      <td>...</td>\n",
       "      <td>0.0</td>\n",
       "      <td>0.0</td>\n",
       "      <td>0.0</td>\n",
       "      <td>0.0</td>\n",
       "      <td>0.0</td>\n",
       "      <td>0.0</td>\n",
       "      <td>0.0</td>\n",
       "      <td>1.0</td>\n",
       "      <td>0.0</td>\n",
       "      <td>0.0</td>\n",
       "    </tr>\n",
       "    <tr>\n",
       "      <th>235</th>\n",
       "      <td>0252_01</td>\n",
       "      <td>Leenny Byerry</td>\n",
       "      <td>1.0</td>\n",
       "      <td>0.0</td>\n",
       "      <td>0.0</td>\n",
       "      <td>0.0</td>\n",
       "      <td>1.0</td>\n",
       "      <td>0.0</td>\n",
       "      <td>0.0</td>\n",
       "      <td>0.0</td>\n",
       "      <td>...</td>\n",
       "      <td>0.0</td>\n",
       "      <td>0.0</td>\n",
       "      <td>0.0</td>\n",
       "      <td>0.0</td>\n",
       "      <td>0.0</td>\n",
       "      <td>0.0</td>\n",
       "      <td>0.0</td>\n",
       "      <td>1.0</td>\n",
       "      <td>0.0</td>\n",
       "      <td>0.0</td>\n",
       "    </tr>\n",
       "  </tbody>\n",
       "</table>\n",
       "<p>6519 rows × 1743 columns</p>\n",
       "</div>"
      ],
      "text/plain": [
       "     PassengerId               Name  HomePlanet_Earth  HomePlanet_Europa  \\\n",
       "1554     1650_01        Walla Hodes               1.0                0.0   \n",
       "5941     6302_06      Branca Simsey               1.0                0.0   \n",
       "4194     4473_02        Terek Welte               0.0                0.0   \n",
       "7837     8366_03       Jodia Russon               1.0                0.0   \n",
       "1232     1308_01      Diram Plegred               0.0                1.0   \n",
       "...          ...                ...               ...                ...   \n",
       "2895     3130_01         Mall Frasp               0.0                0.0   \n",
       "7813     8339_01  Markton Dratembid               0.0                1.0   \n",
       "905      0978_01    Lesley Coxterez               1.0                0.0   \n",
       "5192     5538_01        Diedow Gele               0.0                0.0   \n",
       "235      0252_01      Leenny Byerry               1.0                0.0   \n",
       "\n",
       "      HomePlanet_Mars  HomePlanet_nan  CryoSleep_False  CryoSleep_True  \\\n",
       "1554              0.0             0.0              0.0             1.0   \n",
       "5941              0.0             0.0              1.0             0.0   \n",
       "4194              1.0             0.0              1.0             0.0   \n",
       "7837              0.0             0.0              0.0             1.0   \n",
       "1232              0.0             0.0              0.0             1.0   \n",
       "...               ...             ...              ...             ...   \n",
       "2895              1.0             0.0              1.0             0.0   \n",
       "7813              0.0             0.0              1.0             0.0   \n",
       "905               0.0             0.0              1.0             0.0   \n",
       "5192              1.0             0.0              0.0             1.0   \n",
       "235               0.0             0.0              1.0             0.0   \n",
       "\n",
       "      CryoSleep_nan  Destination_55 Cancri e  ...  cabin_num_993  \\\n",
       "1554            0.0                      1.0  ...            0.0   \n",
       "5941            0.0                      1.0  ...            0.0   \n",
       "4194            0.0                      0.0  ...            0.0   \n",
       "7837            0.0                      0.0  ...            0.0   \n",
       "1232            0.0                      1.0  ...            0.0   \n",
       "...             ...                      ...  ...            ...   \n",
       "2895            0.0                      0.0  ...            0.0   \n",
       "7813            0.0                      0.0  ...            0.0   \n",
       "905             0.0                      0.0  ...            0.0   \n",
       "5192            0.0                      0.0  ...            0.0   \n",
       "235             0.0                      0.0  ...            0.0   \n",
       "\n",
       "      cabin_num_994  cabin_num_995  cabin_num_997  cabin_num_998  \\\n",
       "1554            0.0            0.0            0.0            0.0   \n",
       "5941            0.0            0.0            0.0            0.0   \n",
       "4194            0.0            0.0            0.0            0.0   \n",
       "7837            0.0            0.0            0.0            0.0   \n",
       "1232            0.0            0.0            0.0            0.0   \n",
       "...             ...            ...            ...            ...   \n",
       "2895            0.0            0.0            0.0            0.0   \n",
       "7813            0.0            0.0            0.0            0.0   \n",
       "905             0.0            0.0            0.0            0.0   \n",
       "5192            0.0            0.0            0.0            0.0   \n",
       "235             0.0            0.0            0.0            0.0   \n",
       "\n",
       "      cabin_num_999  cabin_num_nan  side_P  side_S  side_nan  \n",
       "1554            0.0            0.0     0.0     1.0       0.0  \n",
       "5941            0.0            0.0     1.0     0.0       0.0  \n",
       "4194            0.0            0.0     0.0     1.0       0.0  \n",
       "7837            0.0            0.0     1.0     0.0       0.0  \n",
       "1232            0.0            1.0     0.0     0.0       1.0  \n",
       "...             ...            ...     ...     ...       ...  \n",
       "2895            0.0            0.0     0.0     1.0       0.0  \n",
       "7813            0.0            0.0     0.0     1.0       0.0  \n",
       "905             0.0            0.0     1.0     0.0       0.0  \n",
       "5192            0.0            0.0     1.0     0.0       0.0  \n",
       "235             0.0            0.0     1.0     0.0       0.0  \n",
       "\n",
       "[6519 rows x 1743 columns]"
      ]
     },
     "execution_count": 384,
     "metadata": {},
     "output_type": "execute_result"
    }
   ],
   "source": [
    "OH_X_train"
   ]
  },
  {
   "cell_type": "code",
   "execution_count": 385,
   "id": "03caa1c7",
   "metadata": {},
   "outputs": [
    {
     "data": {
      "text/html": [
       "<div>\n",
       "<style scoped>\n",
       "    .dataframe tbody tr th:only-of-type {\n",
       "        vertical-align: middle;\n",
       "    }\n",
       "\n",
       "    .dataframe tbody tr th {\n",
       "        vertical-align: top;\n",
       "    }\n",
       "\n",
       "    .dataframe thead th {\n",
       "        text-align: right;\n",
       "    }\n",
       "</style>\n",
       "<table border=\"1\" class=\"dataframe\">\n",
       "  <thead>\n",
       "    <tr style=\"text-align: right;\">\n",
       "      <th></th>\n",
       "      <th>Age</th>\n",
       "      <th>RoomService</th>\n",
       "      <th>FoodCourt</th>\n",
       "      <th>ShoppingMall</th>\n",
       "      <th>Spa</th>\n",
       "      <th>VRDeck</th>\n",
       "    </tr>\n",
       "  </thead>\n",
       "  <tbody>\n",
       "    <tr>\n",
       "      <th>1554</th>\n",
       "      <td>28.0</td>\n",
       "      <td>0.000000</td>\n",
       "      <td>0.0</td>\n",
       "      <td>0.000000</td>\n",
       "      <td>0.0</td>\n",
       "      <td>0.000000</td>\n",
       "    </tr>\n",
       "    <tr>\n",
       "      <th>5941</th>\n",
       "      <td>12.0</td>\n",
       "      <td>0.000000</td>\n",
       "      <td>0.0</td>\n",
       "      <td>0.000000</td>\n",
       "      <td>0.0</td>\n",
       "      <td>308.308127</td>\n",
       "    </tr>\n",
       "    <tr>\n",
       "      <th>4194</th>\n",
       "      <td>27.0</td>\n",
       "      <td>994.000000</td>\n",
       "      <td>0.0</td>\n",
       "      <td>26.000000</td>\n",
       "      <td>1.0</td>\n",
       "      <td>0.000000</td>\n",
       "    </tr>\n",
       "    <tr>\n",
       "      <th>7837</th>\n",
       "      <td>2.0</td>\n",
       "      <td>0.000000</td>\n",
       "      <td>0.0</td>\n",
       "      <td>0.000000</td>\n",
       "      <td>0.0</td>\n",
       "      <td>0.000000</td>\n",
       "    </tr>\n",
       "    <tr>\n",
       "      <th>1232</th>\n",
       "      <td>40.0</td>\n",
       "      <td>0.000000</td>\n",
       "      <td>0.0</td>\n",
       "      <td>0.000000</td>\n",
       "      <td>0.0</td>\n",
       "      <td>0.000000</td>\n",
       "    </tr>\n",
       "    <tr>\n",
       "      <th>...</th>\n",
       "      <td>...</td>\n",
       "      <td>...</td>\n",
       "      <td>...</td>\n",
       "      <td>...</td>\n",
       "      <td>...</td>\n",
       "      <td>...</td>\n",
       "    </tr>\n",
       "    <tr>\n",
       "      <th>2895</th>\n",
       "      <td>38.0</td>\n",
       "      <td>886.000000</td>\n",
       "      <td>0.0</td>\n",
       "      <td>618.000000</td>\n",
       "      <td>0.0</td>\n",
       "      <td>0.000000</td>\n",
       "    </tr>\n",
       "    <tr>\n",
       "      <th>7813</th>\n",
       "      <td>39.0</td>\n",
       "      <td>0.000000</td>\n",
       "      <td>261.0</td>\n",
       "      <td>170.119792</td>\n",
       "      <td>1831.0</td>\n",
       "      <td>1797.000000</td>\n",
       "    </tr>\n",
       "    <tr>\n",
       "      <th>905</th>\n",
       "      <td>24.0</td>\n",
       "      <td>229.216969</td>\n",
       "      <td>32.0</td>\n",
       "      <td>8.000000</td>\n",
       "      <td>0.0</td>\n",
       "      <td>0.000000</td>\n",
       "    </tr>\n",
       "    <tr>\n",
       "      <th>5192</th>\n",
       "      <td>47.0</td>\n",
       "      <td>0.000000</td>\n",
       "      <td>0.0</td>\n",
       "      <td>0.000000</td>\n",
       "      <td>0.0</td>\n",
       "      <td>0.000000</td>\n",
       "    </tr>\n",
       "    <tr>\n",
       "      <th>235</th>\n",
       "      <td>30.0</td>\n",
       "      <td>335.000000</td>\n",
       "      <td>695.0</td>\n",
       "      <td>541.000000</td>\n",
       "      <td>0.0</td>\n",
       "      <td>0.000000</td>\n",
       "    </tr>\n",
       "  </tbody>\n",
       "</table>\n",
       "<p>6519 rows × 6 columns</p>\n",
       "</div>"
      ],
      "text/plain": [
       "       Age  RoomService  FoodCourt  ShoppingMall     Spa       VRDeck\n",
       "1554  28.0     0.000000        0.0      0.000000     0.0     0.000000\n",
       "5941  12.0     0.000000        0.0      0.000000     0.0   308.308127\n",
       "4194  27.0   994.000000        0.0     26.000000     1.0     0.000000\n",
       "7837   2.0     0.000000        0.0      0.000000     0.0     0.000000\n",
       "1232  40.0     0.000000        0.0      0.000000     0.0     0.000000\n",
       "...    ...          ...        ...           ...     ...          ...\n",
       "2895  38.0   886.000000        0.0    618.000000     0.0     0.000000\n",
       "7813  39.0     0.000000      261.0    170.119792  1831.0  1797.000000\n",
       "905   24.0   229.216969       32.0      8.000000     0.0     0.000000\n",
       "5192  47.0     0.000000        0.0      0.000000     0.0     0.000000\n",
       "235   30.0   335.000000      695.0    541.000000     0.0     0.000000\n",
       "\n",
       "[6519 rows x 6 columns]"
      ]
     },
     "execution_count": 385,
     "metadata": {},
     "output_type": "execute_result"
    }
   ],
   "source": [
    "imputer_X_train"
   ]
  },
  {
   "cell_type": "code",
   "execution_count": 386,
   "id": "150e910d",
   "metadata": {},
   "outputs": [],
   "source": [
    "full_X_train = pd.concat([imputer_X_train, OH_cols_train], axis='columns')\n",
    "full_X_valid = pd.concat([imputer_X_valid, OH_cols_valid], axis='columns')"
   ]
  },
  {
   "cell_type": "markdown",
   "id": "990fe1bd",
   "metadata": {},
   "source": [
    "### Comparing Models"
   ]
  },
  {
   "cell_type": "markdown",
   "id": "69338f60",
   "metadata": {},
   "source": [
    "##### Creating DecisionTreeRegressor Model"
   ]
  },
  {
   "cell_type": "code",
   "execution_count": 387,
   "id": "05f75c2c",
   "metadata": {},
   "outputs": [],
   "source": [
    "from sklearn.tree import DecisionTreeRegressor\n",
    "\n",
    "dtr_model = DecisionTreeRegressor(random_state=1)\n",
    "dtr_model.fit(full_X_train, y_train)\n",
    "\n",
    "val_predictions = dtr_model.predict(full_X_valid)"
   ]
  },
  {
   "cell_type": "code",
   "execution_count": 388,
   "id": "20c49d76",
   "metadata": {},
   "outputs": [
    {
     "name": "stdout",
     "output_type": "stream",
     "text": [
      "0.22424103035878565\n"
     ]
    }
   ],
   "source": [
    "from sklearn.metrics import mean_absolute_error\n",
    "dtr_val_mae = mean_absolute_error(y_valid, val_predictions)\n",
    "print(dtr_val_mae)"
   ]
  },
  {
   "cell_type": "markdown",
   "id": "8f3c480a",
   "metadata": {},
   "source": [
    "##### Creating RandomForest Model"
   ]
  },
  {
   "cell_type": "code",
   "execution_count": 391,
   "id": "c09cda4b",
   "metadata": {},
   "outputs": [],
   "source": [
    "from sklearn.ensemble import RandomForestRegressor\n",
    "\n",
    "rf_model = RandomForestRegressor(random_state = 1)\n",
    "rf_model.fit(full_X_train, y_train)\n",
    "\n",
    "rf_val_predictions = rf_model.predict(full_X_valid)"
   ]
  },
  {
   "cell_type": "code",
   "execution_count": 392,
   "id": "6a7d0da3",
   "metadata": {},
   "outputs": [
    {
     "name": "stdout",
     "output_type": "stream",
     "text": [
      "0.22870446182152712\n"
     ]
    }
   ],
   "source": [
    "rf_val_mae = mean_absolute_error(y_valid, rf_val_predictions)\n",
    "print(rf_val_mae)"
   ]
  },
  {
   "cell_type": "markdown",
   "id": "689d65b4",
   "metadata": {},
   "source": [
    "### Repeating Imputation & OneHotEncoding on Full Data"
   ]
  },
  {
   "cell_type": "code",
   "execution_count": 393,
   "id": "4ad85421",
   "metadata": {},
   "outputs": [],
   "source": [
    "imputer_X = pd.DataFrame(imputer.fit_transform(X[cols_missing_num]))\n",
    "imputer_X.columns = cols_missing_num\n",
    "\n",
    "imputer_test = pd.DataFrame(imputer.transform(test_data[cols_missing_num]))\n",
    "imputer_test.columns = cols_missing_num\n",
    "\n",
    "imputer_X.index = X.index\n",
    "imputer_test.index = test_data.index"
   ]
  },
  {
   "cell_type": "code",
   "execution_count": 394,
   "id": "c928ab3d",
   "metadata": {},
   "outputs": [],
   "source": [
    "from sklearn.preprocessing import OneHotEncoder\n",
    "OH_encoder = OneHotEncoder(handle_unknown='ignore', sparse=False)\n",
    "\n",
    "OH_X = pd.DataFrame(OH_encoder.fit_transform(X[cols_missing_cat]))\n",
    "OH_test = pd.DataFrame(OH_encoder.transform(test_data[cols_missing_cat]))\n",
    "\n",
    "OH_X.index = X.index\n",
    "OH_test.index = test_data.index\n",
    "\n",
    "OH_X.columns = OH_encoder.get_feature_names_out()\n",
    "OH_test.columns = OH_encoder.get_feature_names_out()\n",
    "\n",
    "num_X = X.drop(cols_missing_cat, axis=1)\n",
    "num_test = test_data.drop(cols_missing_cat, axis=1)\n",
    "\n",
    "OH_X = pd.concat([num_X, OH_X], axis=1)\n",
    "OH_test = pd.concat([num_test, OH_test], axis=1)"
   ]
  },
  {
   "cell_type": "markdown",
   "id": "75fe8abc",
   "metadata": {},
   "source": [
    "### Creating New Dataframe with All of the Data"
   ]
  },
  {
   "cell_type": "code",
   "execution_count": 395,
   "id": "6782d950",
   "metadata": {},
   "outputs": [],
   "source": [
    "OH_X.drop(cols_missing_num, axis = 1, inplace = True)\n",
    "OH_test.drop(cols_missing_num, axis = 1, inplace = True)\n",
    "\n",
    "full_X = pd.concat([imputer_X, OH_X], axis='columns').drop('Name', axis=1)\n",
    "full_test = pd.concat([imputer_test, OH_test], axis='columns').drop('Name', axis=1)"
   ]
  },
  {
   "cell_type": "markdown",
   "id": "9c4f55ad",
   "metadata": {},
   "source": [
    "### Fitting Full Data to Best Model"
   ]
  },
  {
   "cell_type": "code",
   "execution_count": 396,
   "id": "672527de",
   "metadata": {},
   "outputs": [
    {
     "data": {
      "text/plain": [
       "RandomForestRegressor(random_state=1)"
      ]
     },
     "execution_count": 396,
     "metadata": {},
     "output_type": "execute_result"
    }
   ],
   "source": [
    "rf_model.fit(full_X, y)"
   ]
  },
  {
   "cell_type": "markdown",
   "id": "61530f93",
   "metadata": {},
   "source": [
    "### Predicting using test_data"
   ]
  },
  {
   "cell_type": "code",
   "execution_count": 397,
   "id": "572e37e9",
   "metadata": {},
   "outputs": [],
   "source": [
    "test_pred = rf_model.predict(full_test).astype('bool')"
   ]
  },
  {
   "cell_type": "markdown",
   "id": "25ed013e",
   "metadata": {},
   "source": [
    "### Create Output Dataframe"
   ]
  },
  {
   "cell_type": "code",
   "execution_count": 345,
   "id": "533c8a7f",
   "metadata": {},
   "outputs": [
    {
     "data": {
      "text/plain": [
       "False"
      ]
     },
     "execution_count": 345,
     "metadata": {},
     "output_type": "execute_result"
    }
   ],
   "source": [
    "full_X.isnull().values.any()"
   ]
  },
  {
   "cell_type": "code",
   "execution_count": 398,
   "id": "39cd40ac",
   "metadata": {},
   "outputs": [],
   "source": [
    "output = pd.DataFrame({'PassengerId': test_data.PassengerId, 'Transported': test_pred})\n",
    "output.to_csv('submission.csv', index=False)"
   ]
  }
 ],
 "metadata": {
  "kernelspec": {
   "display_name": "Python 3 (ipykernel)",
   "language": "python",
   "name": "python3"
  },
  "language_info": {
   "codemirror_mode": {
    "name": "ipython",
    "version": 3
   },
   "file_extension": ".py",
   "mimetype": "text/x-python",
   "name": "python",
   "nbconvert_exporter": "python",
   "pygments_lexer": "ipython3",
   "version": "3.9.13"
  }
 },
 "nbformat": 4,
 "nbformat_minor": 5
}
