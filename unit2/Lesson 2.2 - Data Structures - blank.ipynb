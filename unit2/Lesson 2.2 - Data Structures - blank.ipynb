{
 "cells": [
  {
   "cell_type": "markdown",
   "metadata": {},
   "source": [
    "# Data Science Lesson - Data Structures\n",
    "---\n",
    "**Question: How do we represent our Stick Figure Google Sheet (table) in a Python variable?**\n",
    "\n",
    "### List of Dictionaries\n",
    "\n",
    "Represent each person as a dictionary, and stote them all in a list. Output the list to verify."
   ]
  },
  {
   "cell_type": "code",
   "execution_count": 12,
   "metadata": {},
   "outputs": [
    {
     "data": {
      "text/plain": [
       "[{'name': 'dakota',\n",
       "  'gpa': 3.15,\n",
       "  'sport': 'basketball',\n",
       "  'footware': 'sneakers',\n",
       "  'height': 72,\n",
       "  'friends': 307},\n",
       " {'name': 'charlie',\n",
       "  'gpa': 1.1,\n",
       "  'sport': 'baseball',\n",
       "  'footware': 'sandals',\n",
       "  'height': 61,\n",
       "  'friends': 34},\n",
       " {'name': 'hayden',\n",
       "  'gpa': 3.5,\n",
       "  'sport': 'tennis',\n",
       "  'footware': 'sandals',\n",
       "  'height': 68,\n",
       "  'friends': 335},\n",
       " {'name': 'kamryn',\n",
       "  'gpa': 2.18,\n",
       "  'sport': 'soccer',\n",
       "  'footware': 'sneakers',\n",
       "  'height': 66,\n",
       "  'friends': 200},\n",
       " {'name': 'emerson',\n",
       "  'gpa': 3.06,\n",
       "  'sport': 'soccer',\n",
       "  'footware': 'sneakers',\n",
       "  'height': 65,\n",
       "  'friends': 213},\n",
       " {'name': 'jessie',\n",
       "  'gpa': 2.41,\n",
       "  'sport': 'basketball',\n",
       "  'footware': 'sandals',\n",
       "  'height': 61,\n",
       "  'friends': 202},\n",
       " {'name': 'sawyer',\n",
       "  'gpa': 2.96,\n",
       "  'sport': 'tennis',\n",
       "  'footware': 'sandals',\n",
       "  'height': 67,\n",
       "  'friends': 314},\n",
       " {'name': 'london',\n",
       "  'gpa': 3.98,\n",
       "  'sport': 'soccer',\n",
       "  'footware': 'sneakers',\n",
       "  'height': 64,\n",
       "  'friends': 436}]"
      ]
     },
     "execution_count": 12,
     "metadata": {},
     "output_type": "execute_result"
    }
   ],
   "source": [
    "stick_figures = [\n",
    "    {\n",
    "        \"name\": \"dakota\", \n",
    "        \"gpa\": 3.15,\n",
    "        \"sport\": \"basketball\",\n",
    "        \"footware\": \"sneakers\",\n",
    "        \"height\": 72,\n",
    "        \"friends\": 307\n",
    "    },\n",
    "    {\n",
    "        \"name\": \"charlie\", \n",
    "        \"gpa\": 1.1,\n",
    "        \"sport\": \"baseball\",\n",
    "        \"footware\": \"sandals\",\n",
    "        \"height\": 61,\n",
    "        \"friends\": 34\n",
    "    },\n",
    "    {\n",
    "        \"name\": \"hayden\", \n",
    "        \"gpa\": 3.5,\n",
    "        \"sport\": \"tennis\",\n",
    "        \"footware\": \"sandals\",\n",
    "        \"height\": 68,\n",
    "        \"friends\": 335\n",
    "    },\n",
    "    {\n",
    "        \"name\": \"kamryn\", \n",
    "        \"gpa\": 2.18,\n",
    "        \"sport\": \"soccer\",\n",
    "        \"footware\": \"sneakers\",\n",
    "        \"height\": 66,\n",
    "        \"friends\": 200\n",
    "    },\n",
    "    {\n",
    "        \"name\": \"emerson\", \n",
    "        \"gpa\": 3.06,\n",
    "        \"sport\": \"soccer\",\n",
    "        \"footware\": \"sneakers\",\n",
    "        \"height\": 65,\n",
    "        \"friends\": 213\n",
    "    },\n",
    "    {\n",
    "        \"name\": \"jessie\", \n",
    "        \"gpa\": 2.41,\n",
    "        \"sport\": \"basketball\",\n",
    "        \"footware\": \"sandals\",\n",
    "        \"height\": 61,\n",
    "        \"friends\": 202\n",
    "    },\n",
    "    {\n",
    "        \"name\": \"sawyer\", \n",
    "        \"gpa\": 2.96,\n",
    "        \"sport\": \"tennis\",\n",
    "        \"footware\": \"sandals\",\n",
    "        \"height\": 67,\n",
    "        \"friends\": 314\n",
    "    },\n",
    "    {\n",
    "        \"name\": \"london\", \n",
    "        \"gpa\": 3.98,\n",
    "        \"sport\": \"soccer\",\n",
    "        \"footware\": \"sneakers\",\n",
    "        \"height\": 64,\n",
    "        \"friends\": 436\n",
    "    }\n",
    "]\n",
    "\n",
    "stick_figures"
   ]
  },
  {
   "cell_type": "markdown",
   "metadata": {},
   "source": [
    "What is the mean height of people in our list? First, use pure Python functions (not the statistics module) to calculate this, and output to verify.\n",
    "\n",
    "*Hint: You may want to put all the heights in a list and then use that for your computations.*"
   ]
  },
  {
   "cell_type": "code",
   "execution_count": 14,
   "metadata": {},
   "outputs": [
    {
     "data": {
      "text/plain": [
       "65.5"
      ]
     },
     "execution_count": 14,
     "metadata": {},
     "output_type": "execute_result"
    }
   ],
   "source": [
    "heights = [person[\"height\"] for person in stick_figures]\n",
    "mean_height = sum(heights)/len(heights)\n",
    "mean_height"
   ]
  },
  {
   "cell_type": "markdown",
   "metadata": {},
   "source": [
    "Now, import NumPy (as np) and use its mean function to find the mean of the heights list directly."
   ]
  },
  {
   "cell_type": "code",
   "execution_count": 19,
   "metadata": {},
   "outputs": [
    {
     "data": {
      "text/plain": [
       "65.5"
      ]
     },
     "execution_count": 19,
     "metadata": {},
     "output_type": "execute_result"
    }
   ],
   "source": [
    "import numpy as np\n",
    "np.mean(heights)"
   ]
  },
  {
   "cell_type": "markdown",
   "metadata": {},
   "source": [
    "## Dictionary of Lists\n",
    "\n",
    "Using a dictionary and key/value pairs, represent each attribute (column) of a person as a key and all the values of each attribute as a list. That is, a dictionary of lists. Output the dict to verify."
   ]
  },
  {
   "cell_type": "code",
   "execution_count": null,
   "metadata": {},
   "outputs": [],
   "source": [
    "myDict ={\n",
    "    \"names\": [\"dakota\", \"charlie\", \"hayden\", \"kamryn\", \"emerson\", \"jessie\", \"sawyer\", \"london\"],\n",
    "    \"gpas\": [3.15, 1.1, 3.5, 2.18, 3.06, 2.41, 2.96, 3.98],\n",
    "    \"sports\": [\"basketball\", \"baseball\", \"tennis\", \"soccer\", \"soccer\", \"basketball\", \"tennis\", \"soccer\"],\n",
    "    \"footwares\": [\"sneakers\", \"sandals\", \"sandals\", \"sneakers\", \"sneakers\", \"sandals\", \"sandals\", \"sneakers\"],\n",
    "    \"heights\": [],\n",
    "    \"friends\": []\n",
    "}"
   ]
  },
  {
   "cell_type": "markdown",
   "metadata": {},
   "source": [
    "Now use NumPy to get the mean in one statement."
   ]
  },
  {
   "cell_type": "code",
   "execution_count": null,
   "metadata": {},
   "outputs": [],
   "source": [
    "np.mean(myDict[\"heights\"])"
   ]
  },
  {
   "cell_type": "markdown",
   "metadata": {},
   "source": [
    "**So, which approach should we use? Or is there a better way? Hmmm...**"
   ]
  }
 ],
 "metadata": {
  "kernelspec": {
   "display_name": "Python 3",
   "language": "python",
   "name": "python3"
  },
  "language_info": {
   "codemirror_mode": {
    "name": "ipython",
    "version": 3
   },
   "file_extension": ".py",
   "mimetype": "text/x-python",
   "name": "python",
   "nbconvert_exporter": "python",
   "pygments_lexer": "ipython3",
   "version": "3.8.5"
  }
 },
 "nbformat": 4,
 "nbformat_minor": 5
}
