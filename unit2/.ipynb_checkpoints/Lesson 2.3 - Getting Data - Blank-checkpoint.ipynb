{
 "cells": [
  {
   "cell_type": "markdown",
   "metadata": {},
   "source": [
    "# Data Science Lesson - Getting Data\n",
    "---\n",
    "### Reading from CSV files\n",
    "A comma-separated values (CSV) file is a very common, generic file format used for data storage and transfer.\n",
    "There is the \"vanilla\" Python way to get data out of a CSV, and there is the pandas way.\n",
    "See https://realpython.com/python-csv/ to determine which you prefer. :)\n",
    "\n",
    "Open your Google Sheets file of people data from the last lesson. Use File > Download to get a CSV locally and place it in the same directory as this notebook. Rename it \"people.csv\".\n",
    "\n",
    "Now, import pandas as pd and use the .read_csv function to read the contents of people.csv into a pandas dataframe. Output the dataframe to see what it looks like."
   ]
  },
  {
   "cell_type": "code",
   "execution_count": 1,
   "metadata": {},
   "outputs": [
    {
     "data": {
      "text/html": [
       "<div>\n",
       "<style scoped>\n",
       "    .dataframe tbody tr th:only-of-type {\n",
       "        vertical-align: middle;\n",
       "    }\n",
       "\n",
       "    .dataframe tbody tr th {\n",
       "        vertical-align: top;\n",
       "    }\n",
       "\n",
       "    .dataframe thead th {\n",
       "        text-align: right;\n",
       "    }\n",
       "</style>\n",
       "<table border=\"1\" class=\"dataframe\">\n",
       "  <thead>\n",
       "    <tr style=\"text-align: right;\">\n",
       "      <th></th>\n",
       "      <th>name</th>\n",
       "      <th>gpa</th>\n",
       "      <th>sport</th>\n",
       "      <th>footware</th>\n",
       "      <th>height</th>\n",
       "      <th>friends</th>\n",
       "    </tr>\n",
       "  </thead>\n",
       "  <tbody>\n",
       "    <tr>\n",
       "      <th>0</th>\n",
       "      <td>dakota</td>\n",
       "      <td>3.15</td>\n",
       "      <td>basketball</td>\n",
       "      <td>sneakers</td>\n",
       "      <td>72</td>\n",
       "      <td>307</td>\n",
       "    </tr>\n",
       "    <tr>\n",
       "      <th>1</th>\n",
       "      <td>charlie</td>\n",
       "      <td>1.10</td>\n",
       "      <td>baseball</td>\n",
       "      <td>sandals</td>\n",
       "      <td>61</td>\n",
       "      <td>34</td>\n",
       "    </tr>\n",
       "    <tr>\n",
       "      <th>2</th>\n",
       "      <td>hayden</td>\n",
       "      <td>3.50</td>\n",
       "      <td>tennis</td>\n",
       "      <td>sandals</td>\n",
       "      <td>68</td>\n",
       "      <td>335</td>\n",
       "    </tr>\n",
       "    <tr>\n",
       "      <th>3</th>\n",
       "      <td>kamryn</td>\n",
       "      <td>2.18</td>\n",
       "      <td>soccer</td>\n",
       "      <td>sneakers</td>\n",
       "      <td>66</td>\n",
       "      <td>200</td>\n",
       "    </tr>\n",
       "    <tr>\n",
       "      <th>4</th>\n",
       "      <td>emerson</td>\n",
       "      <td>3.06</td>\n",
       "      <td>soccer</td>\n",
       "      <td>sneakers</td>\n",
       "      <td>65</td>\n",
       "      <td>213</td>\n",
       "    </tr>\n",
       "    <tr>\n",
       "      <th>5</th>\n",
       "      <td>jessie</td>\n",
       "      <td>2.41</td>\n",
       "      <td>basketball</td>\n",
       "      <td>sandals</td>\n",
       "      <td>61</td>\n",
       "      <td>202</td>\n",
       "    </tr>\n",
       "    <tr>\n",
       "      <th>6</th>\n",
       "      <td>sawyer</td>\n",
       "      <td>2.96</td>\n",
       "      <td>tennis</td>\n",
       "      <td>sandals</td>\n",
       "      <td>67</td>\n",
       "      <td>314</td>\n",
       "    </tr>\n",
       "    <tr>\n",
       "      <th>7</th>\n",
       "      <td>london</td>\n",
       "      <td>3.98</td>\n",
       "      <td>soccer</td>\n",
       "      <td>sneakers</td>\n",
       "      <td>64</td>\n",
       "      <td>436</td>\n",
       "    </tr>\n",
       "  </tbody>\n",
       "</table>\n",
       "</div>"
      ],
      "text/plain": [
       "      name   gpa       sport  footware  height  friends\n",
       "0   dakota  3.15  basketball  sneakers      72      307\n",
       "1  charlie  1.10    baseball   sandals      61       34\n",
       "2   hayden  3.50      tennis   sandals      68      335\n",
       "3   kamryn  2.18      soccer  sneakers      66      200\n",
       "4  emerson  3.06      soccer  sneakers      65      213\n",
       "5   jessie  2.41  basketball   sandals      61      202\n",
       "6   sawyer  2.96      tennis   sandals      67      314\n",
       "7   london  3.98      soccer  sneakers      64      436"
      ]
     },
     "execution_count": 1,
     "metadata": {},
     "output_type": "execute_result"
    }
   ],
   "source": [
    "import pandas as pd\n",
    "pd.read_csv('people.csv')"
   ]
  },
  {
   "cell_type": "markdown",
   "metadata": {},
   "source": [
    "**Question:** What's a DataFrame?\n",
    "\n",
    "**Answer:** It's our new best friend!\n",
    "\n",
    "Now that you have data in a pandas dataframe, use .info() to get details about the columns."
   ]
  },
  {
   "cell_type": "code",
   "execution_count": null,
   "metadata": {},
   "outputs": [],
   "source": []
  },
  {
   "cell_type": "markdown",
   "metadata": {},
   "source": [
    "And now use .describe() to get a lot more useful informations."
   ]
  },
  {
   "cell_type": "code",
   "execution_count": null,
   "metadata": {},
   "outputs": [],
   "source": []
  },
  {
   "cell_type": "markdown",
   "metadata": {},
   "source": [
    "## Weather Data\n",
    "From https://github.com/fivethirtyeight/data/tree/master/us-weather-history we can get weather data as CSV files from many different airports.\n",
    "\n",
    "Download a CSV file from the above site. (Make sure to pick one that no one else chooses.) You'll need to view the \"raw\" page and save the file locally as a .csv (not .txt)\n",
    "\n",
    "Then, read the file into a dataframe and output it to verify."
   ]
  },
  {
   "cell_type": "code",
   "execution_count": null,
   "metadata": {},
   "outputs": [],
   "source": []
  },
  {
   "cell_type": "markdown",
   "metadata": {},
   "source": [
    "Get the info for the data set."
   ]
  },
  {
   "cell_type": "code",
   "execution_count": null,
   "metadata": {},
   "outputs": [],
   "source": []
  },
  {
   "cell_type": "markdown",
   "metadata": {},
   "source": [
    "And now describe the data."
   ]
  },
  {
   "cell_type": "code",
   "execution_count": null,
   "metadata": {},
   "outputs": [],
   "source": []
  },
  {
   "cell_type": "markdown",
   "metadata": {},
   "source": [
    "Take a look at the mean and std of the actual_mean_temp. That's the average temperature of the airport over the whole year, and the standard deviation. Compare with others to see if you can tell whose airports are more temperate and more volatile. Then look up the airport by its code and see if your observations make sense."
   ]
  },
  {
   "cell_type": "markdown",
   "metadata": {},
   "source": [
    "## Reading directly from the web\n",
    "We can also get CSV directly from the web without saving the file locally. Note that this creates a dependency on the host of data. If that resource is moved (or removed) our script will stop functioning.\n",
    "\n",
    "Try getting data on surnames from here: https://raw.githubusercontent.com/fivethirtyeight/data/master/most-common-name/surnames.csv\n",
    "\n",
    "Then, investigate the data using pandas tools we just learned."
   ]
  },
  {
   "cell_type": "code",
   "execution_count": null,
   "metadata": {},
   "outputs": [],
   "source": []
  }
 ],
 "metadata": {
  "kernelspec": {
   "display_name": "Python 3",
   "language": "python",
   "name": "python3"
  },
  "language_info": {
   "codemirror_mode": {
    "name": "ipython",
    "version": 3
   },
   "file_extension": ".py",
   "mimetype": "text/x-python",
   "name": "python",
   "nbconvert_exporter": "python",
   "pygments_lexer": "ipython3",
   "version": "3.8.5"
  }
 },
 "nbformat": 4,
 "nbformat_minor": 5
}
