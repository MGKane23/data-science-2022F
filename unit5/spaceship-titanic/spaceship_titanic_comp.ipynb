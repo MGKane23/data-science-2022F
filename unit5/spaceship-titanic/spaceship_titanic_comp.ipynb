{
 "cells": [
  {
   "cell_type": "markdown",
   "id": "a9ab1618",
   "metadata": {},
   "source": [
    "# Spaceship Titanic Competition\n",
    "### By: MaryGrace Kane"
   ]
  },
  {
   "cell_type": "code",
   "execution_count": 404,
   "id": "f437cc50",
   "metadata": {},
   "outputs": [
    {
     "data": {
      "text/html": [
       "<div>\n",
       "<style scoped>\n",
       "    .dataframe tbody tr th:only-of-type {\n",
       "        vertical-align: middle;\n",
       "    }\n",
       "\n",
       "    .dataframe tbody tr th {\n",
       "        vertical-align: top;\n",
       "    }\n",
       "\n",
       "    .dataframe thead th {\n",
       "        text-align: right;\n",
       "    }\n",
       "</style>\n",
       "<table border=\"1\" class=\"dataframe\">\n",
       "  <thead>\n",
       "    <tr style=\"text-align: right;\">\n",
       "      <th></th>\n",
       "      <th>PassengerId</th>\n",
       "      <th>HomePlanet</th>\n",
       "      <th>CryoSleep</th>\n",
       "      <th>Cabin</th>\n",
       "      <th>Destination</th>\n",
       "      <th>Age</th>\n",
       "      <th>VIP</th>\n",
       "      <th>RoomService</th>\n",
       "      <th>FoodCourt</th>\n",
       "      <th>ShoppingMall</th>\n",
       "      <th>Spa</th>\n",
       "      <th>VRDeck</th>\n",
       "      <th>Name</th>\n",
       "      <th>Transported</th>\n",
       "    </tr>\n",
       "  </thead>\n",
       "  <tbody>\n",
       "    <tr>\n",
       "      <th>0</th>\n",
       "      <td>0001_01</td>\n",
       "      <td>Europa</td>\n",
       "      <td>False</td>\n",
       "      <td>B/0/P</td>\n",
       "      <td>TRAPPIST-1e</td>\n",
       "      <td>39.0</td>\n",
       "      <td>False</td>\n",
       "      <td>0.0</td>\n",
       "      <td>0.0</td>\n",
       "      <td>0.0</td>\n",
       "      <td>0.0</td>\n",
       "      <td>0.0</td>\n",
       "      <td>Maham Ofracculy</td>\n",
       "      <td>False</td>\n",
       "    </tr>\n",
       "    <tr>\n",
       "      <th>1</th>\n",
       "      <td>0002_01</td>\n",
       "      <td>Earth</td>\n",
       "      <td>False</td>\n",
       "      <td>F/0/S</td>\n",
       "      <td>TRAPPIST-1e</td>\n",
       "      <td>24.0</td>\n",
       "      <td>False</td>\n",
       "      <td>109.0</td>\n",
       "      <td>9.0</td>\n",
       "      <td>25.0</td>\n",
       "      <td>549.0</td>\n",
       "      <td>44.0</td>\n",
       "      <td>Juanna Vines</td>\n",
       "      <td>True</td>\n",
       "    </tr>\n",
       "    <tr>\n",
       "      <th>2</th>\n",
       "      <td>0003_01</td>\n",
       "      <td>Europa</td>\n",
       "      <td>False</td>\n",
       "      <td>A/0/S</td>\n",
       "      <td>TRAPPIST-1e</td>\n",
       "      <td>58.0</td>\n",
       "      <td>True</td>\n",
       "      <td>43.0</td>\n",
       "      <td>3576.0</td>\n",
       "      <td>0.0</td>\n",
       "      <td>6715.0</td>\n",
       "      <td>49.0</td>\n",
       "      <td>Altark Susent</td>\n",
       "      <td>False</td>\n",
       "    </tr>\n",
       "    <tr>\n",
       "      <th>3</th>\n",
       "      <td>0003_02</td>\n",
       "      <td>Europa</td>\n",
       "      <td>False</td>\n",
       "      <td>A/0/S</td>\n",
       "      <td>TRAPPIST-1e</td>\n",
       "      <td>33.0</td>\n",
       "      <td>False</td>\n",
       "      <td>0.0</td>\n",
       "      <td>1283.0</td>\n",
       "      <td>371.0</td>\n",
       "      <td>3329.0</td>\n",
       "      <td>193.0</td>\n",
       "      <td>Solam Susent</td>\n",
       "      <td>False</td>\n",
       "    </tr>\n",
       "    <tr>\n",
       "      <th>4</th>\n",
       "      <td>0004_01</td>\n",
       "      <td>Earth</td>\n",
       "      <td>False</td>\n",
       "      <td>F/1/S</td>\n",
       "      <td>TRAPPIST-1e</td>\n",
       "      <td>16.0</td>\n",
       "      <td>False</td>\n",
       "      <td>303.0</td>\n",
       "      <td>70.0</td>\n",
       "      <td>151.0</td>\n",
       "      <td>565.0</td>\n",
       "      <td>2.0</td>\n",
       "      <td>Willy Santantines</td>\n",
       "      <td>True</td>\n",
       "    </tr>\n",
       "    <tr>\n",
       "      <th>...</th>\n",
       "      <td>...</td>\n",
       "      <td>...</td>\n",
       "      <td>...</td>\n",
       "      <td>...</td>\n",
       "      <td>...</td>\n",
       "      <td>...</td>\n",
       "      <td>...</td>\n",
       "      <td>...</td>\n",
       "      <td>...</td>\n",
       "      <td>...</td>\n",
       "      <td>...</td>\n",
       "      <td>...</td>\n",
       "      <td>...</td>\n",
       "      <td>...</td>\n",
       "    </tr>\n",
       "    <tr>\n",
       "      <th>8688</th>\n",
       "      <td>9276_01</td>\n",
       "      <td>Europa</td>\n",
       "      <td>False</td>\n",
       "      <td>A/98/P</td>\n",
       "      <td>55 Cancri e</td>\n",
       "      <td>41.0</td>\n",
       "      <td>True</td>\n",
       "      <td>0.0</td>\n",
       "      <td>6819.0</td>\n",
       "      <td>0.0</td>\n",
       "      <td>1643.0</td>\n",
       "      <td>74.0</td>\n",
       "      <td>Gravior Noxnuther</td>\n",
       "      <td>False</td>\n",
       "    </tr>\n",
       "    <tr>\n",
       "      <th>8689</th>\n",
       "      <td>9278_01</td>\n",
       "      <td>Earth</td>\n",
       "      <td>True</td>\n",
       "      <td>G/1499/S</td>\n",
       "      <td>PSO J318.5-22</td>\n",
       "      <td>18.0</td>\n",
       "      <td>False</td>\n",
       "      <td>0.0</td>\n",
       "      <td>0.0</td>\n",
       "      <td>0.0</td>\n",
       "      <td>0.0</td>\n",
       "      <td>0.0</td>\n",
       "      <td>Kurta Mondalley</td>\n",
       "      <td>False</td>\n",
       "    </tr>\n",
       "    <tr>\n",
       "      <th>8690</th>\n",
       "      <td>9279_01</td>\n",
       "      <td>Earth</td>\n",
       "      <td>False</td>\n",
       "      <td>G/1500/S</td>\n",
       "      <td>TRAPPIST-1e</td>\n",
       "      <td>26.0</td>\n",
       "      <td>False</td>\n",
       "      <td>0.0</td>\n",
       "      <td>0.0</td>\n",
       "      <td>1872.0</td>\n",
       "      <td>1.0</td>\n",
       "      <td>0.0</td>\n",
       "      <td>Fayey Connon</td>\n",
       "      <td>True</td>\n",
       "    </tr>\n",
       "    <tr>\n",
       "      <th>8691</th>\n",
       "      <td>9280_01</td>\n",
       "      <td>Europa</td>\n",
       "      <td>False</td>\n",
       "      <td>E/608/S</td>\n",
       "      <td>55 Cancri e</td>\n",
       "      <td>32.0</td>\n",
       "      <td>False</td>\n",
       "      <td>0.0</td>\n",
       "      <td>1049.0</td>\n",
       "      <td>0.0</td>\n",
       "      <td>353.0</td>\n",
       "      <td>3235.0</td>\n",
       "      <td>Celeon Hontichre</td>\n",
       "      <td>False</td>\n",
       "    </tr>\n",
       "    <tr>\n",
       "      <th>8692</th>\n",
       "      <td>9280_02</td>\n",
       "      <td>Europa</td>\n",
       "      <td>False</td>\n",
       "      <td>E/608/S</td>\n",
       "      <td>TRAPPIST-1e</td>\n",
       "      <td>44.0</td>\n",
       "      <td>False</td>\n",
       "      <td>126.0</td>\n",
       "      <td>4688.0</td>\n",
       "      <td>0.0</td>\n",
       "      <td>0.0</td>\n",
       "      <td>12.0</td>\n",
       "      <td>Propsh Hontichre</td>\n",
       "      <td>True</td>\n",
       "    </tr>\n",
       "  </tbody>\n",
       "</table>\n",
       "<p>8693 rows × 14 columns</p>\n",
       "</div>"
      ],
      "text/plain": [
       "     PassengerId HomePlanet CryoSleep     Cabin    Destination   Age    VIP  \\\n",
       "0        0001_01     Europa     False     B/0/P    TRAPPIST-1e  39.0  False   \n",
       "1        0002_01      Earth     False     F/0/S    TRAPPIST-1e  24.0  False   \n",
       "2        0003_01     Europa     False     A/0/S    TRAPPIST-1e  58.0   True   \n",
       "3        0003_02     Europa     False     A/0/S    TRAPPIST-1e  33.0  False   \n",
       "4        0004_01      Earth     False     F/1/S    TRAPPIST-1e  16.0  False   \n",
       "...          ...        ...       ...       ...            ...   ...    ...   \n",
       "8688     9276_01     Europa     False    A/98/P    55 Cancri e  41.0   True   \n",
       "8689     9278_01      Earth      True  G/1499/S  PSO J318.5-22  18.0  False   \n",
       "8690     9279_01      Earth     False  G/1500/S    TRAPPIST-1e  26.0  False   \n",
       "8691     9280_01     Europa     False   E/608/S    55 Cancri e  32.0  False   \n",
       "8692     9280_02     Europa     False   E/608/S    TRAPPIST-1e  44.0  False   \n",
       "\n",
       "      RoomService  FoodCourt  ShoppingMall     Spa  VRDeck               Name  \\\n",
       "0             0.0        0.0           0.0     0.0     0.0    Maham Ofracculy   \n",
       "1           109.0        9.0          25.0   549.0    44.0       Juanna Vines   \n",
       "2            43.0     3576.0           0.0  6715.0    49.0      Altark Susent   \n",
       "3             0.0     1283.0         371.0  3329.0   193.0       Solam Susent   \n",
       "4           303.0       70.0         151.0   565.0     2.0  Willy Santantines   \n",
       "...           ...        ...           ...     ...     ...                ...   \n",
       "8688          0.0     6819.0           0.0  1643.0    74.0  Gravior Noxnuther   \n",
       "8689          0.0        0.0           0.0     0.0     0.0    Kurta Mondalley   \n",
       "8690          0.0        0.0        1872.0     1.0     0.0       Fayey Connon   \n",
       "8691          0.0     1049.0           0.0   353.0  3235.0   Celeon Hontichre   \n",
       "8692        126.0     4688.0           0.0     0.0    12.0   Propsh Hontichre   \n",
       "\n",
       "      Transported  \n",
       "0           False  \n",
       "1            True  \n",
       "2           False  \n",
       "3           False  \n",
       "4            True  \n",
       "...           ...  \n",
       "8688        False  \n",
       "8689        False  \n",
       "8690         True  \n",
       "8691        False  \n",
       "8692         True  \n",
       "\n",
       "[8693 rows x 14 columns]"
      ]
     },
     "execution_count": 404,
     "metadata": {},
     "output_type": "execute_result"
    }
   ],
   "source": [
    "import pandas as pd\n",
    "import numpy as np\n",
    "train_data = pd.read_csv('train.csv')\n",
    "test_data = pd.read_csv('test.csv')\n",
    "train_data"
   ]
  },
  {
   "cell_type": "markdown",
   "id": "3d066b99",
   "metadata": {},
   "source": [
    "### Checking which columns have null values"
   ]
  },
  {
   "cell_type": "code",
   "execution_count": 405,
   "id": "f82a8c73",
   "metadata": {},
   "outputs": [
    {
     "data": {
      "text/plain": [
       "PassengerId     False\n",
       "HomePlanet       True\n",
       "CryoSleep        True\n",
       "Cabin            True\n",
       "Destination      True\n",
       "Age              True\n",
       "VIP              True\n",
       "RoomService      True\n",
       "FoodCourt        True\n",
       "ShoppingMall     True\n",
       "Spa              True\n",
       "VRDeck           True\n",
       "Name             True\n",
       "Transported     False\n",
       "dtype: bool"
      ]
     },
     "execution_count": 405,
     "metadata": {},
     "output_type": "execute_result"
    }
   ],
   "source": [
    "train_data.isnull().any()"
   ]
  },
  {
   "cell_type": "markdown",
   "id": "43d08382",
   "metadata": {},
   "source": [
    "### Splitting X & y"
   ]
  },
  {
   "cell_type": "code",
   "execution_count": 406,
   "id": "c0b1e452",
   "metadata": {},
   "outputs": [],
   "source": [
    "X = train_data.drop('Transported', axis=1)\n",
    "y = train_data['Transported']"
   ]
  },
  {
   "cell_type": "markdown",
   "id": "ebd1ece9",
   "metadata": {},
   "source": [
    "### Splitting Cabin Column into 3 Columns"
   ]
  },
  {
   "cell_type": "code",
   "execution_count": 407,
   "id": "0179fe55",
   "metadata": {},
   "outputs": [],
   "source": [
    "X[['deck', 'cabin_num', 'side']] = X['Cabin'].str.split('/', expand=True)\n",
    "X.drop('Cabin', axis=1, inplace=True)"
   ]
  },
  {
   "cell_type": "code",
   "execution_count": 408,
   "id": "9eac157b",
   "metadata": {},
   "outputs": [],
   "source": [
    "test_data[['deck', 'cabin_num', 'side']] = test_data['Cabin'].str.split('/', expand=True)\n",
    "test_data.drop('Cabin', axis=1, inplace=True)"
   ]
  },
  {
   "cell_type": "markdown",
   "id": "8335e27f",
   "metadata": {},
   "source": [
    "### Splitting into X_train, y_train, X_valid, y_valid"
   ]
  },
  {
   "cell_type": "code",
   "execution_count": 409,
   "id": "11d9d0d9",
   "metadata": {},
   "outputs": [],
   "source": [
    "from sklearn.model_selection import train_test_split\n",
    "\n",
    "X_train, X_valid, y_train, y_valid = train_test_split(X, y, random_state = 1)"
   ]
  },
  {
   "cell_type": "markdown",
   "id": "76bd1688",
   "metadata": {},
   "source": [
    "### Separating Numerical & Categorical Columns"
   ]
  },
  {
   "cell_type": "code",
   "execution_count": 410,
   "id": "b2df78ad",
   "metadata": {},
   "outputs": [],
   "source": [
    "cols_missing = [col for col in X_train.columns if X_train[col].isnull().any()]\n",
    "cols_missing_cat = [col for col in X_train.columns if (X_train[col].dtypes == object) & (col in cols_missing)]\n",
    "cols_missing_num = [col for col in X_train.columns if (X_train[col].dtypes != object) & (col in cols_missing)]"
   ]
  },
  {
   "cell_type": "markdown",
   "id": "1ba82386",
   "metadata": {},
   "source": [
    "### Imputing Numerical Columns"
   ]
  },
  {
   "cell_type": "code",
   "execution_count": 411,
   "id": "e54e96c6",
   "metadata": {},
   "outputs": [],
   "source": [
    "from sklearn.impute import SimpleImputer\n",
    "imputer = SimpleImputer()\n",
    "\n",
    "imputer_X_train = pd.DataFrame(imputer.fit_transform(X_train[cols_missing_num]))\n",
    "imputer_X_train.columns = cols_missing_num\n",
    "\n",
    "imputer_X_valid = pd.DataFrame(imputer.transform(X_valid[cols_missing_num]))\n",
    "imputer_X_valid.columns = cols_missing_num\n",
    "\n",
    "imputer_X_train.index = X_train.index\n",
    "imputer_X_valid.index = X_valid.index"
   ]
  },
  {
   "cell_type": "markdown",
   "id": "c0d33774",
   "metadata": {},
   "source": [
    "### Checking Number of Unique Values per Categorical Column"
   ]
  },
  {
   "cell_type": "code",
   "execution_count": 412,
   "id": "4cf0239a",
   "metadata": {
    "scrolled": false
   },
   "outputs": [
    {
     "data": {
      "text/plain": [
       "[('CryoSleep', 2),\n",
       " ('VIP', 2),\n",
       " ('side', 2),\n",
       " ('HomePlanet', 3),\n",
       " ('Destination', 3),\n",
       " ('deck', 8),\n",
       " ('cabin_num', 1714),\n",
       " ('Name', 6358)]"
      ]
     },
     "execution_count": 412,
     "metadata": {},
     "output_type": "execute_result"
    }
   ],
   "source": [
    "object_nunique = list(map(lambda col: X_train[col].nunique(), cols_missing_cat))\n",
    "d = dict(zip(cols_missing_cat, object_nunique))\n",
    "\n",
    "sorted(d.items(), key=lambda x: x[1])"
   ]
  },
  {
   "cell_type": "markdown",
   "id": "a8dc5bae",
   "metadata": {},
   "source": [
    "### Removing categorical columns that can't be imputed"
   ]
  },
  {
   "cell_type": "code",
   "execution_count": 413,
   "id": "d299596d",
   "metadata": {},
   "outputs": [],
   "source": [
    "cols_missing_cat.remove('Name')"
   ]
  },
  {
   "cell_type": "code",
   "execution_count": 414,
   "id": "d296d179",
   "metadata": {},
   "outputs": [
    {
     "data": {
      "text/plain": [
       "['HomePlanet', 'CryoSleep', 'Destination', 'VIP', 'deck', 'cabin_num', 'side']"
      ]
     },
     "execution_count": 414,
     "metadata": {},
     "output_type": "execute_result"
    }
   ],
   "source": [
    "cols_missing_cat"
   ]
  },
  {
   "cell_type": "markdown",
   "id": "933462cd",
   "metadata": {},
   "source": [
    "### OneHotEncoding Categorical Columns"
   ]
  },
  {
   "cell_type": "code",
   "execution_count": 415,
   "id": "003fb770",
   "metadata": {},
   "outputs": [],
   "source": [
    "from sklearn.preprocessing import OneHotEncoder\n",
    "OH_encoder = OneHotEncoder(handle_unknown='ignore', sparse=False)\n",
    "OH_cols_train = pd.DataFrame(OH_encoder.fit_transform(X_train[cols_missing_cat]))\n",
    "OH_cols_valid = pd.DataFrame(OH_encoder.transform(X_valid[cols_missing_cat]))\n",
    "\n",
    "OH_cols_train.index = X_train.index\n",
    "OH_cols_valid.index = X_valid.index\n",
    "\n",
    "OH_cols_train.columns = OH_encoder.get_feature_names_out()\n",
    "OH_cols_valid.columns = OH_encoder.get_feature_names_out()\n",
    "\n",
    "num_X_train = X_train.drop(cols_missing_cat, axis=1)\n",
    "num_X_valid = X_valid.drop(cols_missing_cat, axis=1)\n",
    "\n",
    "OH_X_train = pd.concat([num_X_train, OH_cols_train], axis=1)\n",
    "OH_X_valid = pd.concat([num_X_valid, OH_cols_valid], axis=1)"
   ]
  },
  {
   "cell_type": "markdown",
   "id": "055f327e",
   "metadata": {},
   "source": [
    "### Concatenating Imputed & OneHotEncoded Dataframe"
   ]
  },
  {
   "cell_type": "code",
   "execution_count": 416,
   "id": "a24b1ba4",
   "metadata": {},
   "outputs": [],
   "source": [
    "OH_X_train.drop(cols_missing_num, axis = 1, inplace = True)"
   ]
  },
  {
   "cell_type": "code",
   "execution_count": 417,
   "id": "e58c4986",
   "metadata": {},
   "outputs": [
    {
     "data": {
      "text/plain": [
       "PassengerId          False\n",
       "Name                  True\n",
       "HomePlanet_Earth     False\n",
       "HomePlanet_Europa    False\n",
       "HomePlanet_Mars      False\n",
       "                     ...  \n",
       "cabin_num_999        False\n",
       "cabin_num_nan        False\n",
       "side_P               False\n",
       "side_S               False\n",
       "side_nan             False\n",
       "Length: 1743, dtype: bool"
      ]
     },
     "execution_count": 417,
     "metadata": {},
     "output_type": "execute_result"
    }
   ],
   "source": [
    "OH_X_train.isnull().any()"
   ]
  },
  {
   "cell_type": "code",
   "execution_count": 418,
   "id": "aa39ad87",
   "metadata": {
    "scrolled": true
   },
   "outputs": [
    {
     "data": {
      "text/plain": [
       "Age             False\n",
       "RoomService     False\n",
       "FoodCourt       False\n",
       "ShoppingMall    False\n",
       "Spa             False\n",
       "VRDeck          False\n",
       "dtype: bool"
      ]
     },
     "execution_count": 418,
     "metadata": {},
     "output_type": "execute_result"
    }
   ],
   "source": [
    "imputer_X_train.isnull().any()"
   ]
  },
  {
   "cell_type": "code",
   "execution_count": 419,
   "id": "f5ed3e12",
   "metadata": {
    "scrolled": false
   },
   "outputs": [
    {
     "data": {
      "text/html": [
       "<div>\n",
       "<style scoped>\n",
       "    .dataframe tbody tr th:only-of-type {\n",
       "        vertical-align: middle;\n",
       "    }\n",
       "\n",
       "    .dataframe tbody tr th {\n",
       "        vertical-align: top;\n",
       "    }\n",
       "\n",
       "    .dataframe thead th {\n",
       "        text-align: right;\n",
       "    }\n",
       "</style>\n",
       "<table border=\"1\" class=\"dataframe\">\n",
       "  <thead>\n",
       "    <tr style=\"text-align: right;\">\n",
       "      <th></th>\n",
       "      <th>PassengerId</th>\n",
       "      <th>Name</th>\n",
       "      <th>HomePlanet_Earth</th>\n",
       "      <th>HomePlanet_Europa</th>\n",
       "      <th>HomePlanet_Mars</th>\n",
       "      <th>HomePlanet_nan</th>\n",
       "      <th>CryoSleep_False</th>\n",
       "      <th>CryoSleep_True</th>\n",
       "      <th>CryoSleep_nan</th>\n",
       "      <th>Destination_55 Cancri e</th>\n",
       "      <th>...</th>\n",
       "      <th>cabin_num_993</th>\n",
       "      <th>cabin_num_994</th>\n",
       "      <th>cabin_num_995</th>\n",
       "      <th>cabin_num_997</th>\n",
       "      <th>cabin_num_998</th>\n",
       "      <th>cabin_num_999</th>\n",
       "      <th>cabin_num_nan</th>\n",
       "      <th>side_P</th>\n",
       "      <th>side_S</th>\n",
       "      <th>side_nan</th>\n",
       "    </tr>\n",
       "  </thead>\n",
       "  <tbody>\n",
       "    <tr>\n",
       "      <th>1554</th>\n",
       "      <td>1650_01</td>\n",
       "      <td>Walla Hodes</td>\n",
       "      <td>1.0</td>\n",
       "      <td>0.0</td>\n",
       "      <td>0.0</td>\n",
       "      <td>0.0</td>\n",
       "      <td>0.0</td>\n",
       "      <td>1.0</td>\n",
       "      <td>0.0</td>\n",
       "      <td>1.0</td>\n",
       "      <td>...</td>\n",
       "      <td>0.0</td>\n",
       "      <td>0.0</td>\n",
       "      <td>0.0</td>\n",
       "      <td>0.0</td>\n",
       "      <td>0.0</td>\n",
       "      <td>0.0</td>\n",
       "      <td>0.0</td>\n",
       "      <td>0.0</td>\n",
       "      <td>1.0</td>\n",
       "      <td>0.0</td>\n",
       "    </tr>\n",
       "    <tr>\n",
       "      <th>5941</th>\n",
       "      <td>6302_06</td>\n",
       "      <td>Branca Simsey</td>\n",
       "      <td>1.0</td>\n",
       "      <td>0.0</td>\n",
       "      <td>0.0</td>\n",
       "      <td>0.0</td>\n",
       "      <td>1.0</td>\n",
       "      <td>0.0</td>\n",
       "      <td>0.0</td>\n",
       "      <td>1.0</td>\n",
       "      <td>...</td>\n",
       "      <td>0.0</td>\n",
       "      <td>0.0</td>\n",
       "      <td>0.0</td>\n",
       "      <td>0.0</td>\n",
       "      <td>0.0</td>\n",
       "      <td>0.0</td>\n",
       "      <td>0.0</td>\n",
       "      <td>1.0</td>\n",
       "      <td>0.0</td>\n",
       "      <td>0.0</td>\n",
       "    </tr>\n",
       "    <tr>\n",
       "      <th>4194</th>\n",
       "      <td>4473_02</td>\n",
       "      <td>Terek Welte</td>\n",
       "      <td>0.0</td>\n",
       "      <td>0.0</td>\n",
       "      <td>1.0</td>\n",
       "      <td>0.0</td>\n",
       "      <td>1.0</td>\n",
       "      <td>0.0</td>\n",
       "      <td>0.0</td>\n",
       "      <td>0.0</td>\n",
       "      <td>...</td>\n",
       "      <td>0.0</td>\n",
       "      <td>0.0</td>\n",
       "      <td>0.0</td>\n",
       "      <td>0.0</td>\n",
       "      <td>0.0</td>\n",
       "      <td>0.0</td>\n",
       "      <td>0.0</td>\n",
       "      <td>0.0</td>\n",
       "      <td>1.0</td>\n",
       "      <td>0.0</td>\n",
       "    </tr>\n",
       "    <tr>\n",
       "      <th>7837</th>\n",
       "      <td>8366_03</td>\n",
       "      <td>Jodia Russon</td>\n",
       "      <td>1.0</td>\n",
       "      <td>0.0</td>\n",
       "      <td>0.0</td>\n",
       "      <td>0.0</td>\n",
       "      <td>0.0</td>\n",
       "      <td>1.0</td>\n",
       "      <td>0.0</td>\n",
       "      <td>0.0</td>\n",
       "      <td>...</td>\n",
       "      <td>0.0</td>\n",
       "      <td>0.0</td>\n",
       "      <td>0.0</td>\n",
       "      <td>0.0</td>\n",
       "      <td>0.0</td>\n",
       "      <td>0.0</td>\n",
       "      <td>0.0</td>\n",
       "      <td>1.0</td>\n",
       "      <td>0.0</td>\n",
       "      <td>0.0</td>\n",
       "    </tr>\n",
       "    <tr>\n",
       "      <th>1232</th>\n",
       "      <td>1308_01</td>\n",
       "      <td>Diram Plegred</td>\n",
       "      <td>0.0</td>\n",
       "      <td>1.0</td>\n",
       "      <td>0.0</td>\n",
       "      <td>0.0</td>\n",
       "      <td>0.0</td>\n",
       "      <td>1.0</td>\n",
       "      <td>0.0</td>\n",
       "      <td>1.0</td>\n",
       "      <td>...</td>\n",
       "      <td>0.0</td>\n",
       "      <td>0.0</td>\n",
       "      <td>0.0</td>\n",
       "      <td>0.0</td>\n",
       "      <td>0.0</td>\n",
       "      <td>0.0</td>\n",
       "      <td>1.0</td>\n",
       "      <td>0.0</td>\n",
       "      <td>0.0</td>\n",
       "      <td>1.0</td>\n",
       "    </tr>\n",
       "    <tr>\n",
       "      <th>...</th>\n",
       "      <td>...</td>\n",
       "      <td>...</td>\n",
       "      <td>...</td>\n",
       "      <td>...</td>\n",
       "      <td>...</td>\n",
       "      <td>...</td>\n",
       "      <td>...</td>\n",
       "      <td>...</td>\n",
       "      <td>...</td>\n",
       "      <td>...</td>\n",
       "      <td>...</td>\n",
       "      <td>...</td>\n",
       "      <td>...</td>\n",
       "      <td>...</td>\n",
       "      <td>...</td>\n",
       "      <td>...</td>\n",
       "      <td>...</td>\n",
       "      <td>...</td>\n",
       "      <td>...</td>\n",
       "      <td>...</td>\n",
       "      <td>...</td>\n",
       "    </tr>\n",
       "    <tr>\n",
       "      <th>2895</th>\n",
       "      <td>3130_01</td>\n",
       "      <td>Mall Frasp</td>\n",
       "      <td>0.0</td>\n",
       "      <td>0.0</td>\n",
       "      <td>1.0</td>\n",
       "      <td>0.0</td>\n",
       "      <td>1.0</td>\n",
       "      <td>0.0</td>\n",
       "      <td>0.0</td>\n",
       "      <td>0.0</td>\n",
       "      <td>...</td>\n",
       "      <td>0.0</td>\n",
       "      <td>0.0</td>\n",
       "      <td>0.0</td>\n",
       "      <td>0.0</td>\n",
       "      <td>0.0</td>\n",
       "      <td>0.0</td>\n",
       "      <td>0.0</td>\n",
       "      <td>0.0</td>\n",
       "      <td>1.0</td>\n",
       "      <td>0.0</td>\n",
       "    </tr>\n",
       "    <tr>\n",
       "      <th>7813</th>\n",
       "      <td>8339_01</td>\n",
       "      <td>Markton Dratembid</td>\n",
       "      <td>0.0</td>\n",
       "      <td>1.0</td>\n",
       "      <td>0.0</td>\n",
       "      <td>0.0</td>\n",
       "      <td>1.0</td>\n",
       "      <td>0.0</td>\n",
       "      <td>0.0</td>\n",
       "      <td>0.0</td>\n",
       "      <td>...</td>\n",
       "      <td>0.0</td>\n",
       "      <td>0.0</td>\n",
       "      <td>0.0</td>\n",
       "      <td>0.0</td>\n",
       "      <td>0.0</td>\n",
       "      <td>0.0</td>\n",
       "      <td>0.0</td>\n",
       "      <td>0.0</td>\n",
       "      <td>1.0</td>\n",
       "      <td>0.0</td>\n",
       "    </tr>\n",
       "    <tr>\n",
       "      <th>905</th>\n",
       "      <td>0978_01</td>\n",
       "      <td>Lesley Coxterez</td>\n",
       "      <td>1.0</td>\n",
       "      <td>0.0</td>\n",
       "      <td>0.0</td>\n",
       "      <td>0.0</td>\n",
       "      <td>1.0</td>\n",
       "      <td>0.0</td>\n",
       "      <td>0.0</td>\n",
       "      <td>0.0</td>\n",
       "      <td>...</td>\n",
       "      <td>0.0</td>\n",
       "      <td>0.0</td>\n",
       "      <td>0.0</td>\n",
       "      <td>0.0</td>\n",
       "      <td>0.0</td>\n",
       "      <td>0.0</td>\n",
       "      <td>0.0</td>\n",
       "      <td>1.0</td>\n",
       "      <td>0.0</td>\n",
       "      <td>0.0</td>\n",
       "    </tr>\n",
       "    <tr>\n",
       "      <th>5192</th>\n",
       "      <td>5538_01</td>\n",
       "      <td>Diedow Gele</td>\n",
       "      <td>0.0</td>\n",
       "      <td>0.0</td>\n",
       "      <td>1.0</td>\n",
       "      <td>0.0</td>\n",
       "      <td>0.0</td>\n",
       "      <td>1.0</td>\n",
       "      <td>0.0</td>\n",
       "      <td>0.0</td>\n",
       "      <td>...</td>\n",
       "      <td>0.0</td>\n",
       "      <td>0.0</td>\n",
       "      <td>0.0</td>\n",
       "      <td>0.0</td>\n",
       "      <td>0.0</td>\n",
       "      <td>0.0</td>\n",
       "      <td>0.0</td>\n",
       "      <td>1.0</td>\n",
       "      <td>0.0</td>\n",
       "      <td>0.0</td>\n",
       "    </tr>\n",
       "    <tr>\n",
       "      <th>235</th>\n",
       "      <td>0252_01</td>\n",
       "      <td>Leenny Byerry</td>\n",
       "      <td>1.0</td>\n",
       "      <td>0.0</td>\n",
       "      <td>0.0</td>\n",
       "      <td>0.0</td>\n",
       "      <td>1.0</td>\n",
       "      <td>0.0</td>\n",
       "      <td>0.0</td>\n",
       "      <td>0.0</td>\n",
       "      <td>...</td>\n",
       "      <td>0.0</td>\n",
       "      <td>0.0</td>\n",
       "      <td>0.0</td>\n",
       "      <td>0.0</td>\n",
       "      <td>0.0</td>\n",
       "      <td>0.0</td>\n",
       "      <td>0.0</td>\n",
       "      <td>1.0</td>\n",
       "      <td>0.0</td>\n",
       "      <td>0.0</td>\n",
       "    </tr>\n",
       "  </tbody>\n",
       "</table>\n",
       "<p>6519 rows × 1743 columns</p>\n",
       "</div>"
      ],
      "text/plain": [
       "     PassengerId               Name  HomePlanet_Earth  HomePlanet_Europa  \\\n",
       "1554     1650_01        Walla Hodes               1.0                0.0   \n",
       "5941     6302_06      Branca Simsey               1.0                0.0   \n",
       "4194     4473_02        Terek Welte               0.0                0.0   \n",
       "7837     8366_03       Jodia Russon               1.0                0.0   \n",
       "1232     1308_01      Diram Plegred               0.0                1.0   \n",
       "...          ...                ...               ...                ...   \n",
       "2895     3130_01         Mall Frasp               0.0                0.0   \n",
       "7813     8339_01  Markton Dratembid               0.0                1.0   \n",
       "905      0978_01    Lesley Coxterez               1.0                0.0   \n",
       "5192     5538_01        Diedow Gele               0.0                0.0   \n",
       "235      0252_01      Leenny Byerry               1.0                0.0   \n",
       "\n",
       "      HomePlanet_Mars  HomePlanet_nan  CryoSleep_False  CryoSleep_True  \\\n",
       "1554              0.0             0.0              0.0             1.0   \n",
       "5941              0.0             0.0              1.0             0.0   \n",
       "4194              1.0             0.0              1.0             0.0   \n",
       "7837              0.0             0.0              0.0             1.0   \n",
       "1232              0.0             0.0              0.0             1.0   \n",
       "...               ...             ...              ...             ...   \n",
       "2895              1.0             0.0              1.0             0.0   \n",
       "7813              0.0             0.0              1.0             0.0   \n",
       "905               0.0             0.0              1.0             0.0   \n",
       "5192              1.0             0.0              0.0             1.0   \n",
       "235               0.0             0.0              1.0             0.0   \n",
       "\n",
       "      CryoSleep_nan  Destination_55 Cancri e  ...  cabin_num_993  \\\n",
       "1554            0.0                      1.0  ...            0.0   \n",
       "5941            0.0                      1.0  ...            0.0   \n",
       "4194            0.0                      0.0  ...            0.0   \n",
       "7837            0.0                      0.0  ...            0.0   \n",
       "1232            0.0                      1.0  ...            0.0   \n",
       "...             ...                      ...  ...            ...   \n",
       "2895            0.0                      0.0  ...            0.0   \n",
       "7813            0.0                      0.0  ...            0.0   \n",
       "905             0.0                      0.0  ...            0.0   \n",
       "5192            0.0                      0.0  ...            0.0   \n",
       "235             0.0                      0.0  ...            0.0   \n",
       "\n",
       "      cabin_num_994  cabin_num_995  cabin_num_997  cabin_num_998  \\\n",
       "1554            0.0            0.0            0.0            0.0   \n",
       "5941            0.0            0.0            0.0            0.0   \n",
       "4194            0.0            0.0            0.0            0.0   \n",
       "7837            0.0            0.0            0.0            0.0   \n",
       "1232            0.0            0.0            0.0            0.0   \n",
       "...             ...            ...            ...            ...   \n",
       "2895            0.0            0.0            0.0            0.0   \n",
       "7813            0.0            0.0            0.0            0.0   \n",
       "905             0.0            0.0            0.0            0.0   \n",
       "5192            0.0            0.0            0.0            0.0   \n",
       "235             0.0            0.0            0.0            0.0   \n",
       "\n",
       "      cabin_num_999  cabin_num_nan  side_P  side_S  side_nan  \n",
       "1554            0.0            0.0     0.0     1.0       0.0  \n",
       "5941            0.0            0.0     1.0     0.0       0.0  \n",
       "4194            0.0            0.0     0.0     1.0       0.0  \n",
       "7837            0.0            0.0     1.0     0.0       0.0  \n",
       "1232            0.0            1.0     0.0     0.0       1.0  \n",
       "...             ...            ...     ...     ...       ...  \n",
       "2895            0.0            0.0     0.0     1.0       0.0  \n",
       "7813            0.0            0.0     0.0     1.0       0.0  \n",
       "905             0.0            0.0     1.0     0.0       0.0  \n",
       "5192            0.0            0.0     1.0     0.0       0.0  \n",
       "235             0.0            0.0     1.0     0.0       0.0  \n",
       "\n",
       "[6519 rows x 1743 columns]"
      ]
     },
     "execution_count": 419,
     "metadata": {},
     "output_type": "execute_result"
    }
   ],
   "source": [
    "OH_X_train"
   ]
  },
  {
   "cell_type": "code",
   "execution_count": 420,
   "id": "bdbbebfa",
   "metadata": {},
   "outputs": [
    {
     "data": {
      "text/html": [
       "<div>\n",
       "<style scoped>\n",
       "    .dataframe tbody tr th:only-of-type {\n",
       "        vertical-align: middle;\n",
       "    }\n",
       "\n",
       "    .dataframe tbody tr th {\n",
       "        vertical-align: top;\n",
       "    }\n",
       "\n",
       "    .dataframe thead th {\n",
       "        text-align: right;\n",
       "    }\n",
       "</style>\n",
       "<table border=\"1\" class=\"dataframe\">\n",
       "  <thead>\n",
       "    <tr style=\"text-align: right;\">\n",
       "      <th></th>\n",
       "      <th>Age</th>\n",
       "      <th>RoomService</th>\n",
       "      <th>FoodCourt</th>\n",
       "      <th>ShoppingMall</th>\n",
       "      <th>Spa</th>\n",
       "      <th>VRDeck</th>\n",
       "    </tr>\n",
       "  </thead>\n",
       "  <tbody>\n",
       "    <tr>\n",
       "      <th>1554</th>\n",
       "      <td>28.0</td>\n",
       "      <td>0.000000</td>\n",
       "      <td>0.0</td>\n",
       "      <td>0.000000</td>\n",
       "      <td>0.0</td>\n",
       "      <td>0.000000</td>\n",
       "    </tr>\n",
       "    <tr>\n",
       "      <th>5941</th>\n",
       "      <td>12.0</td>\n",
       "      <td>0.000000</td>\n",
       "      <td>0.0</td>\n",
       "      <td>0.000000</td>\n",
       "      <td>0.0</td>\n",
       "      <td>308.308127</td>\n",
       "    </tr>\n",
       "    <tr>\n",
       "      <th>4194</th>\n",
       "      <td>27.0</td>\n",
       "      <td>994.000000</td>\n",
       "      <td>0.0</td>\n",
       "      <td>26.000000</td>\n",
       "      <td>1.0</td>\n",
       "      <td>0.000000</td>\n",
       "    </tr>\n",
       "    <tr>\n",
       "      <th>7837</th>\n",
       "      <td>2.0</td>\n",
       "      <td>0.000000</td>\n",
       "      <td>0.0</td>\n",
       "      <td>0.000000</td>\n",
       "      <td>0.0</td>\n",
       "      <td>0.000000</td>\n",
       "    </tr>\n",
       "    <tr>\n",
       "      <th>1232</th>\n",
       "      <td>40.0</td>\n",
       "      <td>0.000000</td>\n",
       "      <td>0.0</td>\n",
       "      <td>0.000000</td>\n",
       "      <td>0.0</td>\n",
       "      <td>0.000000</td>\n",
       "    </tr>\n",
       "    <tr>\n",
       "      <th>...</th>\n",
       "      <td>...</td>\n",
       "      <td>...</td>\n",
       "      <td>...</td>\n",
       "      <td>...</td>\n",
       "      <td>...</td>\n",
       "      <td>...</td>\n",
       "    </tr>\n",
       "    <tr>\n",
       "      <th>2895</th>\n",
       "      <td>38.0</td>\n",
       "      <td>886.000000</td>\n",
       "      <td>0.0</td>\n",
       "      <td>618.000000</td>\n",
       "      <td>0.0</td>\n",
       "      <td>0.000000</td>\n",
       "    </tr>\n",
       "    <tr>\n",
       "      <th>7813</th>\n",
       "      <td>39.0</td>\n",
       "      <td>0.000000</td>\n",
       "      <td>261.0</td>\n",
       "      <td>170.119792</td>\n",
       "      <td>1831.0</td>\n",
       "      <td>1797.000000</td>\n",
       "    </tr>\n",
       "    <tr>\n",
       "      <th>905</th>\n",
       "      <td>24.0</td>\n",
       "      <td>229.216969</td>\n",
       "      <td>32.0</td>\n",
       "      <td>8.000000</td>\n",
       "      <td>0.0</td>\n",
       "      <td>0.000000</td>\n",
       "    </tr>\n",
       "    <tr>\n",
       "      <th>5192</th>\n",
       "      <td>47.0</td>\n",
       "      <td>0.000000</td>\n",
       "      <td>0.0</td>\n",
       "      <td>0.000000</td>\n",
       "      <td>0.0</td>\n",
       "      <td>0.000000</td>\n",
       "    </tr>\n",
       "    <tr>\n",
       "      <th>235</th>\n",
       "      <td>30.0</td>\n",
       "      <td>335.000000</td>\n",
       "      <td>695.0</td>\n",
       "      <td>541.000000</td>\n",
       "      <td>0.0</td>\n",
       "      <td>0.000000</td>\n",
       "    </tr>\n",
       "  </tbody>\n",
       "</table>\n",
       "<p>6519 rows × 6 columns</p>\n",
       "</div>"
      ],
      "text/plain": [
       "       Age  RoomService  FoodCourt  ShoppingMall     Spa       VRDeck\n",
       "1554  28.0     0.000000        0.0      0.000000     0.0     0.000000\n",
       "5941  12.0     0.000000        0.0      0.000000     0.0   308.308127\n",
       "4194  27.0   994.000000        0.0     26.000000     1.0     0.000000\n",
       "7837   2.0     0.000000        0.0      0.000000     0.0     0.000000\n",
       "1232  40.0     0.000000        0.0      0.000000     0.0     0.000000\n",
       "...    ...          ...        ...           ...     ...          ...\n",
       "2895  38.0   886.000000        0.0    618.000000     0.0     0.000000\n",
       "7813  39.0     0.000000      261.0    170.119792  1831.0  1797.000000\n",
       "905   24.0   229.216969       32.0      8.000000     0.0     0.000000\n",
       "5192  47.0     0.000000        0.0      0.000000     0.0     0.000000\n",
       "235   30.0   335.000000      695.0    541.000000     0.0     0.000000\n",
       "\n",
       "[6519 rows x 6 columns]"
      ]
     },
     "execution_count": 420,
     "metadata": {},
     "output_type": "execute_result"
    }
   ],
   "source": [
    "imputer_X_train"
   ]
  },
  {
   "cell_type": "code",
   "execution_count": 421,
   "id": "dd420aa2",
   "metadata": {},
   "outputs": [],
   "source": [
    "full_X_train = pd.concat([imputer_X_train, OH_cols_train], axis='columns')\n",
    "full_X_valid = pd.concat([imputer_X_valid, OH_cols_valid], axis='columns')"
   ]
  },
  {
   "cell_type": "markdown",
   "id": "03110b66",
   "metadata": {},
   "source": [
    "### Random Forest Model & Playing with Parameters"
   ]
  },
  {
   "cell_type": "code",
   "execution_count": 463,
   "id": "3ca97257",
   "metadata": {},
   "outputs": [],
   "source": [
    "n_estimators = [100, 200, 500, 1000]\n",
    "max_depth = [3, 5, 7]"
   ]
  },
  {
   "cell_type": "code",
   "execution_count": 464,
   "id": "6f256ead",
   "metadata": {},
   "outputs": [
    {
     "name": "stdout",
     "output_type": "stream",
     "text": [
      "max_depth value of: 3 Accuracy: 0.7378104875804968\n",
      "max_depth value of: 5 Accuracy: 0.7414903403863845\n",
      "max_depth value of: 7 Accuracy: 0.7405703771849126\n"
     ]
    }
   ],
   "source": [
    "from sklearn.ensemble import RandomForestClassifier\n",
    "from sklearn.metrics import accuracy_score\n",
    "\n",
    "for m in max_depth:\n",
    "    rf_model = RandomForestClassifier(random_state = 1, max_depth = m)\n",
    "    rf_model.fit(full_X_train, y_train)\n",
    "\n",
    "    rf_val_predictions = rf_model.predict(full_X_valid)\n",
    "\n",
    "    print(\"max_depth value of:\", m, \"Accuracy:\", accuracy_score(rf_val_predictions, y_valid))"
   ]
  },
  {
   "cell_type": "code",
   "execution_count": 466,
   "id": "ff0e9acf",
   "metadata": {},
   "outputs": [
    {
     "name": "stdout",
     "output_type": "stream",
     "text": [
      "n_estimator value of: 100 Accuracy: 0.797608095676173\n",
      "n_estimator value of: 200 Accuracy: 0.7985280588776449\n",
      "n_estimator value of: 500 Accuracy: 0.7999080036798528\n",
      "n_estimator value of: 1000 Accuracy: 0.8040478380864765\n"
     ]
    }
   ],
   "source": [
    "for n in n_estimators:\n",
    "    rf_model = RandomForestClassifier(random_state = 1, n_estimators = n)\n",
    "    rf_model.fit(full_X_train, y_train)\n",
    "\n",
    "    rf_val_predictions = rf_model.predict(full_X_valid)\n",
    "\n",
    "    print(\"n_estimator value of:\", n, \"Accuracy:\", accuracy_score(rf_val_predictions, y_valid))"
   ]
  },
  {
   "cell_type": "markdown",
   "id": "55e45a1b",
   "metadata": {},
   "source": [
    "### Repeating Imputation & OneHotEncoding on Full Data"
   ]
  },
  {
   "cell_type": "code",
   "execution_count": 434,
   "id": "06f203cc",
   "metadata": {},
   "outputs": [],
   "source": [
    "imputer_X = pd.DataFrame(imputer.fit_transform(X[cols_missing_num]))\n",
    "imputer_X.columns = cols_missing_num\n",
    "\n",
    "imputer_test = pd.DataFrame(imputer.transform(test_data[cols_missing_num]))\n",
    "imputer_test.columns = cols_missing_num\n",
    "\n",
    "imputer_X.index = X.index\n",
    "imputer_test.index = test_data.index"
   ]
  },
  {
   "cell_type": "code",
   "execution_count": 435,
   "id": "b9930991",
   "metadata": {},
   "outputs": [],
   "source": [
    "from sklearn.preprocessing import OneHotEncoder\n",
    "OH_encoder = OneHotEncoder(handle_unknown='ignore', sparse=False)\n",
    "\n",
    "OH_X = pd.DataFrame(OH_encoder.fit_transform(X[cols_missing_cat]))\n",
    "OH_test = pd.DataFrame(OH_encoder.transform(test_data[cols_missing_cat]))\n",
    "\n",
    "OH_X.index = X.index\n",
    "OH_test.index = test_data.index\n",
    "\n",
    "OH_X.columns = OH_encoder.get_feature_names_out()\n",
    "OH_test.columns = OH_encoder.get_feature_names_out()\n",
    "\n",
    "num_X = X.drop(cols_missing_cat, axis=1)\n",
    "num_test = test_data.drop(cols_missing_cat, axis=1)\n",
    "\n",
    "OH_X = pd.concat([num_X, OH_X], axis=1)\n",
    "OH_test = pd.concat([num_test, OH_test], axis=1)"
   ]
  },
  {
   "cell_type": "markdown",
   "id": "54a83937",
   "metadata": {},
   "source": [
    "### Creating New Dataframe with All of the Data"
   ]
  },
  {
   "cell_type": "code",
   "execution_count": 428,
   "id": "87d91820",
   "metadata": {},
   "outputs": [],
   "source": [
    "OH_X.drop(cols_missing_num, axis = 1, inplace = True)\n",
    "OH_test.drop(cols_missing_num, axis = 1, inplace = True)\n",
    "\n",
    "full_X = pd.concat([imputer_X, OH_X], axis='columns').drop('Name', axis=1)\n",
    "full_test = pd.concat([imputer_test, OH_test], axis='columns').drop('Name', axis=1)"
   ]
  },
  {
   "cell_type": "markdown",
   "id": "078624fb",
   "metadata": {},
   "source": [
    "### Cross Validation"
   ]
  },
  {
   "cell_type": "code",
   "execution_count": 471,
   "id": "113088fe",
   "metadata": {},
   "outputs": [
    {
     "name": "stdout",
     "output_type": "stream",
     "text": [
      "Best Parameters: {'max_depth': 7, 'min_samples_leaf': 2, 'min_samples_split': 7, 'n_estimators': 25}\n",
      "Best Accuracy: 0.7407128549600944\n"
     ]
    },
    {
     "ename": "AttributeError",
     "evalue": "'GridSearchCV' object has no attribute 'best_estimator'",
     "output_type": "error",
     "traceback": [
      "\u001b[0;31m---------------------------------------------------------------------------\u001b[0m",
      "\u001b[0;31mAttributeError\u001b[0m                            Traceback (most recent call last)",
      "\u001b[0;32m/var/folders/sy/s53d6y0j4qx_ff0kl52hjhbw0000gn/T/ipykernel_6164/3625860325.py\u001b[0m in \u001b[0;36m<module>\u001b[0;34m\u001b[0m\n\u001b[1;32m     13\u001b[0m \u001b[0mprint\u001b[0m\u001b[0;34m(\u001b[0m\u001b[0;34m'Best Accuracy:'\u001b[0m\u001b[0;34m,\u001b[0m \u001b[0mrf_grid\u001b[0m\u001b[0;34m.\u001b[0m\u001b[0mbest_score_\u001b[0m\u001b[0;34m)\u001b[0m\u001b[0;34m\u001b[0m\u001b[0;34m\u001b[0m\u001b[0m\n\u001b[1;32m     14\u001b[0m \u001b[0;34m\u001b[0m\u001b[0m\n\u001b[0;32m---> 15\u001b[0;31m \u001b[0mbest_rf_model\u001b[0m \u001b[0;34m=\u001b[0m \u001b[0mrf_grid\u001b[0m\u001b[0;34m.\u001b[0m\u001b[0mbest_estimator\u001b[0m\u001b[0;34m\u001b[0m\u001b[0;34m\u001b[0m\u001b[0m\n\u001b[0m\u001b[1;32m     16\u001b[0m \u001b[0mbest_rf_model\u001b[0m\u001b[0;34m.\u001b[0m\u001b[0mfit\u001b[0m\u001b[0;34m(\u001b[0m\u001b[0mfull_X\u001b[0m\u001b[0;34m,\u001b[0m \u001b[0my\u001b[0m\u001b[0;34m)\u001b[0m\u001b[0;34m\u001b[0m\u001b[0;34m\u001b[0m\u001b[0m\n\u001b[1;32m     17\u001b[0m \u001b[0mpreds\u001b[0m\u001b[0;34m=\u001b[0m \u001b[0mbest_rf_model\u001b[0m\u001b[0;34m.\u001b[0m\u001b[0mpredict\u001b[0m\u001b[0;34m(\u001b[0m\u001b[0mfull_test\u001b[0m\u001b[0;34m)\u001b[0m\u001b[0;34m\u001b[0m\u001b[0;34m\u001b[0m\u001b[0m\n",
      "\u001b[0;31mAttributeError\u001b[0m: 'GridSearchCV' object has no attribute 'best_estimator'"
     ]
    }
   ],
   "source": [
    "from sklearn.model_selection import GridSearchCV, RandomizedSearchCV\n",
    "\n",
    "rfc_parameters = {'n_estimators': [10, 25, 50], \n",
    "                  'min_samples_split': [6,7,8], \n",
    "                  'max_depth': [3,5,7], \n",
    "                  'min_samples_leaf': [2,3,4]\n",
    "                 }\n",
    "\n",
    "rf_model = RandomForestClassifier()\n",
    "rf_grid = GridSearchCV(rf_model, rfc_parameters, cv=5, scoring='accuracy')\n",
    "rf_grid.fit(full_X, y)\n",
    "print('Best Parameters:', rf_grid.best_params_)\n",
    "print('Best Accuracy:', rf_grid.best_score_)\n",
    "\n",
    "best_rf_model = rf_grid.best_estimator_\n",
    "best_rf_model.fit(full_X, y)\n",
    "preds= best_rf_model.predict(full_test)"
   ]
  },
  {
   "cell_type": "markdown",
   "id": "3a9174dd",
   "metadata": {},
   "source": [
    "### Fitting Full Data to Best Model with Best Parameters"
   ]
  },
  {
   "cell_type": "code",
   "execution_count": 473,
   "id": "c8d327f5",
   "metadata": {},
   "outputs": [
    {
     "data": {
      "text/plain": [
       "RandomForestClassifier(max_depth=7, min_samples_leaf=2, min_samples_split=7,\n",
       "                       n_estimators=25, random_state=1)"
      ]
     },
     "execution_count": 473,
     "metadata": {},
     "output_type": "execute_result"
    }
   ],
   "source": [
    "rf_model = RandomForestClassifier(random_state = 1, \n",
    "                                  max_depth = 7, \n",
    "                                  min_samples_leaf = 2, \n",
    "                                  min_samples_split = 7, \n",
    "                                  n_estimators = 25\n",
    "                                 )\n",
    "\n",
    "rf_model.fit(full_X, y)"
   ]
  },
  {
   "cell_type": "markdown",
   "id": "d74104f1",
   "metadata": {},
   "source": [
    "### Refitting Manually to Possibly Improve Results"
   ]
  },
  {
   "cell_type": "code",
   "execution_count": 477,
   "id": "cbe00ecc",
   "metadata": {},
   "outputs": [
    {
     "data": {
      "text/plain": [
       "RandomForestClassifier(max_depth=5, n_estimators=1000, random_state=1)"
      ]
     },
     "execution_count": 477,
     "metadata": {},
     "output_type": "execute_result"
    }
   ],
   "source": [
    "rf_model = RandomForestClassifier(random_state = 1, \n",
    "                                  max_depth = 5, \n",
    "                                  n_estimators = 1000\n",
    "                                 )\n",
    "\n",
    "rf_model.fit(full_X, y)"
   ]
  },
  {
   "cell_type": "markdown",
   "id": "a5fbf112",
   "metadata": {},
   "source": [
    "### Outcome: I had the most accurate results when I didn't change the parameters. Below makes them default again:"
   ]
  },
  {
   "cell_type": "code",
   "execution_count": 482,
   "id": "c7a8ce50",
   "metadata": {},
   "outputs": [
    {
     "data": {
      "text/plain": [
       "RandomForestClassifier(random_state=1)"
      ]
     },
     "execution_count": 482,
     "metadata": {},
     "output_type": "execute_result"
    }
   ],
   "source": [
    "rf_model = RandomForestClassifier(random_state = 1)\n",
    "\n",
    "rf_model.fit(full_X, y)"
   ]
  },
  {
   "cell_type": "markdown",
   "id": "7a9f5a6c",
   "metadata": {},
   "source": [
    "### Predicting using test_data"
   ]
  },
  {
   "cell_type": "code",
   "execution_count": 483,
   "id": "e2673c1e",
   "metadata": {},
   "outputs": [],
   "source": [
    "preds = rf_model.predict(full_test).astype('bool')"
   ]
  },
  {
   "cell_type": "markdown",
   "id": "fbf8b0ce",
   "metadata": {},
   "source": [
    "### Create Output Dataframe"
   ]
  },
  {
   "cell_type": "code",
   "execution_count": 484,
   "id": "82549305",
   "metadata": {},
   "outputs": [
    {
     "data": {
      "text/plain": [
       "False"
      ]
     },
     "execution_count": 484,
     "metadata": {},
     "output_type": "execute_result"
    }
   ],
   "source": [
    "full_X.isnull().values.any()"
   ]
  },
  {
   "cell_type": "code",
   "execution_count": 485,
   "id": "040c06a5",
   "metadata": {},
   "outputs": [],
   "source": [
    "output = pd.DataFrame({'PassengerId': test_data.PassengerId, 'Transported': preds})\n",
    "output.to_csv('submission.csv', index=False)"
   ]
  },
  {
   "cell_type": "code",
   "execution_count": null,
   "id": "6913e573",
   "metadata": {},
   "outputs": [],
   "source": []
  }
 ],
 "metadata": {
  "kernelspec": {
   "display_name": "Python 3 (ipykernel)",
   "language": "python",
   "name": "python3"
  },
  "language_info": {
   "codemirror_mode": {
    "name": "ipython",
    "version": 3
   },
   "file_extension": ".py",
   "mimetype": "text/x-python",
   "name": "python",
   "nbconvert_exporter": "python",
   "pygments_lexer": "ipython3",
   "version": "3.9.13"
  }
 },
 "nbformat": 4,
 "nbformat_minor": 5
}
